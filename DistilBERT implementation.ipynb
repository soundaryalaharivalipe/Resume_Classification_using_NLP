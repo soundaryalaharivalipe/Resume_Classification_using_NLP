{
  "nbformat": 4,
  "nbformat_minor": 0,
  "metadata": {
    "colab": {
      "provenance": []
    },
    "kernelspec": {
      "name": "python3",
      "display_name": "Python 3"
    },
    "language_info": {
      "name": "python"
    },
    "accelerator": "GPU",
    "gpuClass": "standard"
  },
  "cells": [
    {
      "cell_type": "code",
      "execution_count": 43,
      "metadata": {
        "colab": {
          "base_uri": "https://localhost:8080/"
        },
        "id": "0007qpchMEuF",
        "outputId": "89105d88-5e8a-44d9-95d8-96353008db30"
      },
      "outputs": [
        {
          "output_type": "stream",
          "name": "stdout",
          "text": [
            "Looking in indexes: https://pypi.org/simple, https://us-python.pkg.dev/colab-wheels/public/simple/\n",
            "Requirement already satisfied: transformers in /usr/local/lib/python3.9/dist-packages (4.28.1)\n",
            "Requirement already satisfied: nltk in /usr/local/lib/python3.9/dist-packages (3.8.1)\n",
            "Requirement already satisfied: keras_preprocessing in /usr/local/lib/python3.9/dist-packages (1.1.2)\n",
            "Requirement already satisfied: packaging>=20.0 in /usr/local/lib/python3.9/dist-packages (from transformers) (23.1)\n",
            "Requirement already satisfied: regex!=2019.12.17 in /usr/local/lib/python3.9/dist-packages (from transformers) (2022.10.31)\n",
            "Requirement already satisfied: tokenizers!=0.11.3,<0.14,>=0.11.1 in /usr/local/lib/python3.9/dist-packages (from transformers) (0.13.3)\n",
            "Requirement already satisfied: numpy>=1.17 in /usr/local/lib/python3.9/dist-packages (from transformers) (1.22.4)\n",
            "Requirement already satisfied: requests in /usr/local/lib/python3.9/dist-packages (from transformers) (2.27.1)\n",
            "Requirement already satisfied: pyyaml>=5.1 in /usr/local/lib/python3.9/dist-packages (from transformers) (6.0)\n",
            "Requirement already satisfied: filelock in /usr/local/lib/python3.9/dist-packages (from transformers) (3.11.0)\n",
            "Requirement already satisfied: tqdm>=4.27 in /usr/local/lib/python3.9/dist-packages (from transformers) (4.65.0)\n",
            "Requirement already satisfied: huggingface-hub<1.0,>=0.11.0 in /usr/local/lib/python3.9/dist-packages (from transformers) (0.14.0)\n",
            "Requirement already satisfied: joblib in /usr/local/lib/python3.9/dist-packages (from nltk) (1.2.0)\n",
            "Requirement already satisfied: click in /usr/local/lib/python3.9/dist-packages (from nltk) (8.1.3)\n",
            "Requirement already satisfied: six>=1.9.0 in /usr/local/lib/python3.9/dist-packages (from keras_preprocessing) (1.16.0)\n",
            "Requirement already satisfied: fsspec in /usr/local/lib/python3.9/dist-packages (from huggingface-hub<1.0,>=0.11.0->transformers) (2023.4.0)\n",
            "Requirement already satisfied: typing-extensions>=3.7.4.3 in /usr/local/lib/python3.9/dist-packages (from huggingface-hub<1.0,>=0.11.0->transformers) (4.5.0)\n",
            "Requirement already satisfied: idna<4,>=2.5 in /usr/local/lib/python3.9/dist-packages (from requests->transformers) (3.4)\n",
            "Requirement already satisfied: certifi>=2017.4.17 in /usr/local/lib/python3.9/dist-packages (from requests->transformers) (2022.12.7)\n",
            "Requirement already satisfied: urllib3<1.27,>=1.21.1 in /usr/local/lib/python3.9/dist-packages (from requests->transformers) (1.26.15)\n",
            "Requirement already satisfied: charset-normalizer~=2.0.0 in /usr/local/lib/python3.9/dist-packages (from requests->transformers) (2.0.12)\n"
          ]
        }
      ],
      "source": [
        "!pip install transformers nltk keras_preprocessing"
      ]
    },
    {
      "cell_type": "code",
      "source": [
        "import nltk\n",
        "nltk.download('punkt')\n",
        "nltk.download('wordnet')\n",
        "nltk.download('omw-1.4')"
      ],
      "metadata": {
        "colab": {
          "base_uri": "https://localhost:8080/"
        },
        "id": "kGieII1XNV1M",
        "outputId": "6efdc432-774b-4293-f9e5-7eceb32c1f91"
      },
      "execution_count": 44,
      "outputs": [
        {
          "output_type": "stream",
          "name": "stderr",
          "text": [
            "[nltk_data] Downloading package punkt to /root/nltk_data...\n",
            "[nltk_data]   Package punkt is already up-to-date!\n",
            "[nltk_data] Downloading package wordnet to /root/nltk_data...\n",
            "[nltk_data]   Package wordnet is already up-to-date!\n",
            "[nltk_data] Downloading package omw-1.4 to /root/nltk_data...\n",
            "[nltk_data]   Package omw-1.4 is already up-to-date!\n"
          ]
        },
        {
          "output_type": "execute_result",
          "data": {
            "text/plain": [
              "True"
            ]
          },
          "metadata": {},
          "execution_count": 44
        }
      ]
    },
    {
      "cell_type": "code",
      "source": [
        "import os\n",
        "import re\n",
        "import sys\n",
        "import nltk\n",
        "from nltk.corpus import stopwords\n",
        "from nltk.stem import PorterStemmer\n",
        "from nltk.stem import WordNetLemmatizer"
      ],
      "metadata": {
        "id": "3hK9TTN3Munf"
      },
      "execution_count": 45,
      "outputs": []
    },
    {
      "cell_type": "code",
      "execution_count": 46,
      "metadata": {
        "_cell_guid": "b1076dfc-b9ad-4769-8c92-a6c4dae69d19",
        "_uuid": "8f2839f25d086af736a60e9eeb907d3b93b6e0e5",
        "execution": {
          "iopub.execute_input": "2022-10-07T21:48:36.473391Z",
          "iopub.status.busy": "2022-10-07T21:48:36.472997Z",
          "iopub.status.idle": "2022-10-07T21:48:42.846050Z",
          "shell.execute_reply": "2022-10-07T21:48:42.845062Z"
        },
        "papermill": {
          "duration": 6.385666,
          "end_time": "2022-10-07T21:48:42.848539",
          "exception": false,
          "start_time": "2022-10-07T21:48:36.462873",
          "status": "completed"
        },
        "tags": [],
        "id": "53abebff"
      },
      "outputs": [],
      "source": [
        "import numpy as np \n",
        "import pandas as pd \n",
        "import seaborn as sns\n",
        "import itertools\n",
        "from joblib import dump, load\n",
        "from wordcloud import WordCloud\n",
        "import matplotlib.pyplot as plt"
      ]
    },
    {
      "cell_type": "code",
      "source": [
        "from keras.models import Sequential,Model\n",
        "from keras.utils.np_utils import to_categorical\n",
        "from keras.layers import Dense, SpatialDropout1D, Embedding"
      ],
      "metadata": {
        "id": "eQm_cH2DMSsC"
      },
      "execution_count": 47,
      "outputs": []
    },
    {
      "cell_type": "code",
      "source": [
        "from sklearn.model_selection import train_test_split\n",
        "from sklearn.preprocessing import LabelEncoder\n",
        "from sklearn.feature_extraction.text import CountVectorizer\n",
        "from sklearn.metrics import accuracy_score\n",
        "from sklearn.metrics import confusion_matrix\n",
        "from sklearn.metrics import accuracy_score, precision_score, recall_score, f1_score"
      ],
      "metadata": {
        "id": "37Xlkr3iMUfV"
      },
      "execution_count": 48,
      "outputs": []
    },
    {
      "cell_type": "code",
      "source": [
        "import matplotlib.pyplot as plt\n",
        "import seaborn as sns\n",
        "warnings.filterwarnings('ignore')\n",
        "import tensorflow as tf\n",
        "from tensorflow.keras.layers import Dense, Dropout, Input, Flatten, BatchNormalization\n",
        "from tensorflow.keras.models import Model\n",
        "from tensorflow.keras.optimizers import Adam\n",
        "from tensorflow.keras.metrics import SparseCategoricalAccuracy\n",
        "from tensorflow.keras.callbacks import EarlyStopping, ModelCheckpoint\n",
        "from sklearn.model_selection import train_test_split\n",
        "from sklearn.metrics import classification_report, confusion_matrix\n",
        "from transformers import AutoTokenizer, TFDistilBertForSequenceClassification\n",
        "from tensorflow.keras.utils import plot_model\n",
        "from wordcloud import WordCloud"
      ],
      "metadata": {
        "id": "FbFtgC_7MeB-"
      },
      "execution_count": 49,
      "outputs": []
    },
    {
      "cell_type": "code",
      "source": [
        "df = pd.read_csv('ResumeDataSet.csv')\n",
        "df.shape"
      ],
      "metadata": {
        "colab": {
          "base_uri": "https://localhost:8080/"
        },
        "id": "9tvhWG8nNlRq",
        "outputId": "fafaee78-ddd7-4087-f3e9-7ba627f76664"
      },
      "execution_count": 50,
      "outputs": [
        {
          "output_type": "execute_result",
          "data": {
            "text/plain": [
              "(962, 2)"
            ]
          },
          "metadata": {},
          "execution_count": 50
        }
      ]
    },
    {
      "cell_type": "code",
      "source": [
        "df.info()"
      ],
      "metadata": {
        "colab": {
          "base_uri": "https://localhost:8080/"
        },
        "id": "B4b4Q_wkOCLR",
        "outputId": "e2b13dd5-169c-473e-f797-fdaeb8f88a6d"
      },
      "execution_count": 51,
      "outputs": [
        {
          "output_type": "stream",
          "name": "stdout",
          "text": [
            "<class 'pandas.core.frame.DataFrame'>\n",
            "RangeIndex: 962 entries, 0 to 961\n",
            "Data columns (total 2 columns):\n",
            " #   Column    Non-Null Count  Dtype \n",
            "---  ------    --------------  ----- \n",
            " 0   Category  962 non-null    object\n",
            " 1   Resume    962 non-null    object\n",
            "dtypes: object(2)\n",
            "memory usage: 15.2+ KB\n"
          ]
        }
      ]
    },
    {
      "cell_type": "code",
      "source": [
        "df.isna().sum()"
      ],
      "metadata": {
        "colab": {
          "base_uri": "https://localhost:8080/"
        },
        "id": "kAnRsY7eN2Tw",
        "outputId": "e0a6649f-98c6-48f5-e827-40175a322a47"
      },
      "execution_count": 52,
      "outputs": [
        {
          "output_type": "execute_result",
          "data": {
            "text/plain": [
              "Category    0\n",
              "Resume      0\n",
              "dtype: int64"
            ]
          },
          "metadata": {},
          "execution_count": 52
        }
      ]
    },
    {
      "cell_type": "code",
      "source": [
        "print(\"Total number of available jobs:\", df.Category.nunique())"
      ],
      "metadata": {
        "colab": {
          "base_uri": "https://localhost:8080/"
        },
        "id": "duYx_eNLOIKL",
        "outputId": "c20e96b1-022f-485d-9749-1d361d745eb7"
      },
      "execution_count": 53,
      "outputs": [
        {
          "output_type": "stream",
          "name": "stdout",
          "text": [
            "Total number of available jobs: 25\n"
          ]
        }
      ]
    },
    {
      "cell_type": "code",
      "source": [
        "df['resume_len'] = df.Resume.apply(len)\n",
        "sns.distplot(df.resume_len);"
      ],
      "metadata": {
        "colab": {
          "base_uri": "https://localhost:8080/",
          "height": 450
        },
        "id": "MNEa2Xl0OQik",
        "outputId": "d3b2cdb4-8a60-4e65-b992-45ff7f505d0b"
      },
      "execution_count": 54,
      "outputs": [
        {
          "output_type": "display_data",
          "data": {
            "text/plain": [
              "<Figure size 640x480 with 1 Axes>"
            ],
            "image/png": "[encoded data removed]"
          },
          "metadata": {}
        }
      ]
    },
    {
      "cell_type": "code",
      "source": [
        "df.describe()"
      ],
      "metadata": {
        "colab": {
          "base_uri": "https://localhost:8080/",
          "height": 300
        },
        "id": "NsI3gbM9OTPI",
        "outputId": "45b650df-7675-4d3b-84eb-3cebbb927582"
      },
      "execution_count": 55,
      "outputs": [
        {
          "output_type": "execute_result",
          "data": {
            "text/plain": [
              "         resume_len\n",
              "count    962.000000\n",
              "mean    3160.364865\n",
              "std     2886.528521\n",
              "min      142.000000\n",
              "25%     1217.250000\n",
              "50%     2355.000000\n",
              "75%     4073.750000\n",
              "max    14816.000000"
            ],
            "text/html": [
              "\n",
              "  <div id=\"df-682987d6-351c-4552-88f4-d04c47184351\">\n",
              "    <div class=\"colab-df-container\">\n",
              "      <div>\n",
              "<style scoped>\n",
              "    .dataframe tbody tr th:only-of-type {\n",
              "        vertical-align: middle;\n",
              "    }\n",
              "\n",
              "    .dataframe tbody tr th {\n",
              "        vertical-align: top;\n",
              "    }\n",
              "\n",
              "    .dataframe thead th {\n",
              "        text-align: right;\n",
              "    }\n",
              "</style>\n",
              "<table border=\"1\" class=\"dataframe\">\n",
              "  <thead>\n",
              "    <tr style=\"text-align: right;\">\n",
              "      <th></th>\n",
              "      <th>resume_len</th>\n",
              "    </tr>\n",
              "  </thead>\n",
              "  <tbody>\n",
              "    <tr>\n",
              "      <th>count</th>\n",
              "      <td>962.000000</td>\n",
              "    </tr>\n",
              "    <tr>\n",
              "      <th>mean</th>\n",
              "      <td>3160.364865</td>\n",
              "    </tr>\n",
              "    <tr>\n",
              "      <th>std</th>\n",
              "      <td>2886.528521</td>\n",
              "    </tr>\n",
              "    <tr>\n",
              "      <th>min</th>\n",
              "      <td>142.000000</td>\n",
              "    </tr>\n",
              "    <tr>\n",
              "      <th>25%</th>\n",
              "      <td>1217.250000</td>\n",
              "    </tr>\n",
              "    <tr>\n",
              "      <th>50%</th>\n",
              "      <td>2355.000000</td>\n",
              "    </tr>\n",
              "    <tr>\n",
              "      <th>75%</th>\n",
              "      <td>4073.750000</td>\n",
              "    </tr>\n",
              "    <tr>\n",
              "      <th>max</th>\n",
              "      <td>14816.000000</td>\n",
              "    </tr>\n",
              "  </tbody>\n",
              "</table>\n",
              "</div>\n",
              "      <button class=\"colab-df-convert\" onclick=\"convertToInteractive('df-682987d6-351c-4552-88f4-d04c47184351')\"\n",
              "              title=\"Convert this dataframe to an interactive table.\"\n",
              "              style=\"display:none;\">\n",
              "        \n",
              "  <svg xmlns=\"http://www.w3.org/2000/svg\" height=\"24px\"viewBox=\"0 0 24 24\"\n",
              "       width=\"24px\">\n",
              "    <path d=\"M0 0h24v24H0V0z\" fill=\"none\"/>\n",
              "    <path d=\"M18.56 5.44l.94 2.06.94-2.06 2.06-.94-2.06-.94-.94-2.06-.94 2.06-2.06.94zm-11 1L8.5 8.5l.94-2.06 2.06-.94-2.06-.94L8.5 2.5l-.94 2.06-2.06.94zm10 10l.94 2.06.94-2.06 2.06-.94-2.06-.94-.94-2.06-.94 2.06-2.06.94z\"/><path d=\"M17.41 7.96l-1.37-1.37c-.4-.4-.92-.59-1.43-.59-.52 0-1.04.2-1.43.59L10.3 9.45l-7.72 7.72c-.78.78-.78 2.05 0 2.83L4 21.41c.39.39.9.59 1.41.59.51 0 1.02-.2 1.41-.59l7.78-7.78 2.81-2.81c.8-.78.8-2.07 0-2.86zM5.41 20L4 18.59l7.72-7.72 1.47 1.35L5.41 20z\"/>\n",
              "  </svg>\n",
              "      </button>\n",
              "      \n",
              "  <style>\n",
              "    .colab-df-container {\n",
              "      display:flex;\n",
              "      flex-wrap:wrap;\n",
              "      gap: 12px;\n",
              "    }\n",
              "\n",
              "    .colab-df-convert {\n",
              "      background-color: #E8F0FE;\n",
              "      border: none;\n",
              "      border-radius: 50%;\n",
              "      cursor: pointer;\n",
              "      display: none;\n",
              "      fill: #1967D2;\n",
              "      height: 32px;\n",
              "      padding: 0 0 0 0;\n",
              "      width: 32px;\n",
              "    }\n",
              "\n",
              "    .colab-df-convert:hover {\n",
              "      background-color: #E2EBFA;\n",
              "      box-shadow: 0px 1px 2px rgba(60, 64, 67, 0.3), 0px 1px 3px 1px rgba(60, 64, 67, 0.15);\n",
              "      fill: #174EA6;\n",
              "    }\n",
              "\n",
              "    [theme=dark] .colab-df-convert {\n",
              "      background-color: #3B4455;\n",
              "      fill: #D2E3FC;\n",
              "    }\n",
              "\n",
              "    [theme=dark] .colab-df-convert:hover {\n",
              "      background-color: #434B5C;\n",
              "      box-shadow: 0px 1px 3px 1px rgba(0, 0, 0, 0.15);\n",
              "      filter: drop-shadow(0px 1px 2px rgba(0, 0, 0, 0.3));\n",
              "      fill: #FFFFFF;\n",
              "    }\n",
              "  </style>\n",
              "\n",
              "      <script>\n",
              "        const buttonEl =\n",
              "          document.querySelector('#df-682987d6-351c-4552-88f4-d04c47184351 button.colab-df-convert');\n",
              "        buttonEl.style.display =\n",
              "          google.colab.kernel.accessAllowed ? 'block' : 'none';\n",
              "\n",
              "        async function convertToInteractive(key) {\n",
              "          const element = document.querySelector('#df-682987d6-351c-4552-88f4-d04c47184351');\n",
              "          const dataTable =\n",
              "            await google.colab.kernel.invokeFunction('convertToInteractive',\n",
              "                                                     [key], {});\n",
              "          if (!dataTable) return;\n",
              "\n",
              "          const docLinkHtml = 'Like what you see? Visit the ' +\n",
              "            '<a target=\"_blank\" href=https://colab.research.google.com/notebooks/data_table.ipynb>data table notebook</a>'\n",
              "            + ' to learn more about interactive tables.';\n",
              "          element.innerHTML = '';\n",
              "          dataTable['output_type'] = 'display_data';\n",
              "          await google.colab.output.renderOutput(dataTable, element);\n",
              "          const docLink = document.createElement('div');\n",
              "          docLink.innerHTML = docLinkHtml;\n",
              "          element.appendChild(docLink);\n",
              "        }\n",
              "      </script>\n",
              "    </div>\n",
              "  </div>\n",
              "  "
            ]
          },
          "metadata": {},
          "execution_count": 55
        }
      ]
    },
    {
      "cell_type": "code",
      "source": [
        "max_resume_len = 512"
      ],
      "metadata": {
        "id": "7AUPQ-RhOWFV"
      },
      "execution_count": 56,
      "outputs": []
    },
    {
      "cell_type": "markdown",
      "metadata": {
        "papermill": {
          "duration": 0.086655,
          "end_time": "2022-10-07T21:49:18.988718",
          "exception": false,
          "start_time": "2022-10-07T21:49:18.902063",
          "status": "completed"
        },
        "tags": [],
        "id": "f2ce33db"
      },
      "source": [
        "# Converting the data into lower case and removing words with small lengths"
      ]
    },
    {
      "cell_type": "code",
      "source": [
        "df['Resume'] = df['Resume'].apply(lambda x:x.lower())\n",
        "for i in range(len(df)):\n",
        "    lw=[]\n",
        "    for j in df['Resume'][i].split():\n",
        "        if len(j)>=3:                  \n",
        "            lw.append(j)\n",
        "    df['Resume'][i]=\" \".join(lw)"
      ],
      "metadata": {
        "id": "UxGu3L_-CjNe"
      },
      "execution_count": 57,
      "outputs": []
    },
    {
      "cell_type": "markdown",
      "source": [
        "# Removing punctuations"
      ],
      "metadata": {
        "id": "SHtWfZCYhFMF"
      }
    },
    {
      "cell_type": "code",
      "source": [
        "ps = list(\";?.:!,\")\n",
        "df['Resume'] = df['Resume']\n",
        "\n",
        "for p in ps:   \n",
        "    df['Resume'] = df['Resume'].str.replace(p, '')"
      ],
      "metadata": {
        "id": "NII-KWpog-rq"
      },
      "execution_count": 58,
      "outputs": []
    },
    {
      "cell_type": "markdown",
      "source": [
        "# Removing '\\n' and '\\t', extra spaces, quoting text and progressive pronouns"
      ],
      "metadata": {
        "id": "rmrk8HRhhKvb"
      }
    },
    {
      "cell_type": "code",
      "source": [
        "df['Resume'] = df['Resume'].str.replace(\"    \", \" \")\n",
        "df['Resume'] = df['Resume'].str.replace('\"', '')\n",
        "df['Resume'] = df['Resume'].apply(lambda x: x.replace('\\t', ' '))\n",
        "df['Resume'] = df['Resume'].str.replace(\"'s\", \"\")\n",
        "df['Resume'] = df['Resume'].apply(lambda x: x.replace('\\n', ' '))"
      ],
      "metadata": {
        "id": "7fMjseJVhY5z"
      },
      "execution_count": 59,
      "outputs": []
    },
    {
      "cell_type": "markdown",
      "source": [
        "# Applying Lemmatization"
      ],
      "metadata": {
        "id": "wuHkBQH0he9R"
      }
    },
    {
      "cell_type": "code",
      "source": [
        "nltk.download('punkt')\n",
        "nltk.download('wordnet')\n",
        "nltk.download('omw-1.4')"
      ],
      "metadata": {
        "id": "x0sImlRkhmnU",
        "outputId": "9c269e61-a7a0-4d76-e47e-58b035a1d56b",
        "colab": {
          "base_uri": "https://localhost:8080/"
        }
      },
      "execution_count": 60,
      "outputs": [
        {
          "output_type": "stream",
          "name": "stderr",
          "text": [
            "[nltk_data] Downloading package punkt to /root/nltk_data...\n",
            "[nltk_data]   Package punkt is already up-to-date!\n",
            "[nltk_data] Downloading package wordnet to /root/nltk_data...\n",
            "[nltk_data]   Package wordnet is already up-to-date!\n",
            "[nltk_data] Downloading package omw-1.4 to /root/nltk_data...\n",
            "[nltk_data]   Package omw-1.4 is already up-to-date!\n"
          ]
        },
        {
          "output_type": "execute_result",
          "data": {
            "text/plain": [
              "True"
            ]
          },
          "metadata": {},
          "execution_count": 60
        }
      ]
    },
    {
      "cell_type": "code",
      "source": [
        "wl = WordNetLemmatizer()\n",
        "nr = len(df)\n",
        "lis = []\n",
        "for r in range(0, nr):\n",
        "    ll = []\n",
        "    t = df.loc[r]['Resume']\n",
        "    tw = str(t).split(\" \")\n",
        "    for w in tw:\n",
        "        ll.append(wl.lemmatize(w, pos=\"v\"))\n",
        "    lt = \" \".join(ll)\n",
        "    lis.append(lt)"
      ],
      "metadata": {
        "id": "-o0fjF1vhzlD"
      },
      "execution_count": 61,
      "outputs": []
    },
    {
      "cell_type": "code",
      "source": [
        "df['Resume'] = lis"
      ],
      "metadata": {
        "id": "axj9Yi3hh2NU"
      },
      "execution_count": 62,
      "outputs": []
    },
    {
      "cell_type": "markdown",
      "source": [
        "# Removing Stop-words"
      ],
      "metadata": {
        "id": "DOIf5C77h6fG"
      }
    },
    {
      "cell_type": "code",
      "source": [
        "nltk.download('stopwords')"
      ],
      "metadata": {
        "id": "jBWrHUbRh9xP",
        "outputId": "1806bb76-9cff-4b34-b466-ef24ccbc6c0d",
        "colab": {
          "base_uri": "https://localhost:8080/"
        }
      },
      "execution_count": 63,
      "outputs": [
        {
          "output_type": "stream",
          "name": "stderr",
          "text": [
            "[nltk_data] Downloading package stopwords to /root/nltk_data...\n",
            "[nltk_data]   Package stopwords is already up-to-date!\n"
          ]
        },
        {
          "output_type": "execute_result",
          "data": {
            "text/plain": [
              "True"
            ]
          },
          "metadata": {},
          "execution_count": 63
        }
      ]
    },
    {
      "cell_type": "code",
      "source": [
        "sw = list(stopwords.words('english'))\n",
        "for s in sw:\n",
        "    rs = r\"\\b\" + s + r\"\\b\"\n",
        "    df['Resume'] = df['Resume'].str.replace(rs, '')"
      ],
      "metadata": {
        "id": "po1BSd7jiAce"
      },
      "execution_count": 64,
      "outputs": []
    },
    {
      "cell_type": "code",
      "source": [
        "labels_dict = {}\n",
        "\n",
        "for idx, label in enumerate(df.Category.unique()):\n",
        "    labels_dict[label] = idx\n",
        "\n",
        "labels_dict"
      ],
      "metadata": {
        "colab": {
          "base_uri": "https://localhost:8080/"
        },
        "id": "UQsWvUGFOh2m",
        "outputId": "7bcdadb2-34da-4c65-d069-43c738cf67b2"
      },
      "execution_count": 65,
      "outputs": [
        {
          "output_type": "execute_result",
          "data": {
            "text/plain": [
              "{'Data Science': 0,\n",
              " 'HR': 1,\n",
              " 'Advocate': 2,\n",
              " 'Arts': 3,\n",
              " 'Web Designing': 4,\n",
              " 'Mechanical Engineer': 5,\n",
              " 'Sales': 6,\n",
              " 'Health and fitness': 7,\n",
              " 'Civil Engineer': 8,\n",
              " 'Java Developer': 9,\n",
              " 'Business Analyst': 10,\n",
              " 'SAP Developer': 11,\n",
              " 'Automation Testing': 12,\n",
              " 'Electrical Engineering': 13,\n",
              " 'Operations Manager': 14,\n",
              " 'Python Developer': 15,\n",
              " 'DevOps Engineer': 16,\n",
              " 'Network Security Engineer': 17,\n",
              " 'PMO': 18,\n",
              " 'Database': 19,\n",
              " 'Hadoop': 20,\n",
              " 'ETL Developer': 21,\n",
              " 'DotNet Developer': 22,\n",
              " 'Blockchain': 23,\n",
              " 'Testing': 24}"
            ]
          },
          "metadata": {},
          "execution_count": 65
        }
      ]
    },
    {
      "cell_type": "code",
      "source": [
        "df.Category = df.Category.apply(func=lambda x: labels_dict[x])\n",
        "df.Category = df.Category.astype(np.int64)"
      ],
      "metadata": {
        "id": "Yh-6OB6nOpEI"
      },
      "execution_count": 66,
      "outputs": []
    },
    {
      "cell_type": "code",
      "source": [
        "tokenizer = AutoTokenizer.from_pretrained(\"manishiitg/distilbert-resume-parts-classify\")\n",
        "bert_model = TFDistilBertForSequenceClassification.from_pretrained(\"manishiitg/distilbert-resume-parts-classify\",from_pt=True)"
      ],
      "metadata": {
        "colab": {
          "base_uri": "https://localhost:8080/"
        },
        "id": "bnHzAciMPYUn",
        "outputId": "e7a7ac18-cd84-45b9-d164-b3464bc4b79a"
      },
      "execution_count": 67,
      "outputs": [
        {
          "output_type": "stream",
          "name": "stderr",
          "text": [
            "All PyTorch model weights were used when initializing TFDistilBertForSequenceClassification.\n",
            "\n",
            "All the weights of TFDistilBertForSequenceClassification were initialized from the PyTorch model.\n",
            "If your task is similar to the task the model of the checkpoint was trained on, you can already use TFDistilBertForSequenceClassification for predictions without further training.\n"
          ]
        }
      ]
    },
    {
      "cell_type": "code",
      "source": [
        "preprocessed_df = df"
      ],
      "metadata": {
        "id": "AKttxhgtVvZR"
      },
      "execution_count": 68,
      "outputs": []
    },
    {
      "cell_type": "code",
      "source": [
        "train_df, test_df = train_test_split(preprocessed_df,test_size=0.1,shuffle=True,random_state=101)"
      ],
      "metadata": {
        "id": "4CR28-syPgIG"
      },
      "execution_count": 69,
      "outputs": []
    },
    {
      "cell_type": "code",
      "source": [
        "X_train = tokenizer(text=train_df.Resume.tolist(),\n",
        "                   add_special_tokens=True,\n",
        "                   padding=True,\n",
        "                   truncation=True,\n",
        "                   max_length=max_resume_len,\n",
        "                   return_tensors='tf',\n",
        "                   return_attention_mask=True,\n",
        "                   return_token_type_ids=False,\n",
        "                   verbose=1)\n",
        "\n",
        "X_test = tokenizer(text=test_df.Resume.tolist(),\n",
        "                  add_special_tokens=True,\n",
        "                  padding=True,\n",
        "                  truncation=True,\n",
        "                  max_length=max_resume_len,\n",
        "                  return_tensors='tf',\n",
        "                  return_attention_mask=True,\n",
        "                  return_token_type_ids=False,\n",
        "                  verbose=1)"
      ],
      "metadata": {
        "id": "nVK0ACn-Pk-Z"
      },
      "execution_count": 70,
      "outputs": []
    },
    {
      "cell_type": "code",
      "source": [
        "input_ids = Input(shape=(max_resume_len,),dtype=tf.int32,name='input_ids')\n",
        "attention_masks = Input(shape=(max_resume_len,),dtype=tf.int32,name='attention_mask')"
      ],
      "metadata": {
        "id": "2_OIHNdlPv02"
      },
      "execution_count": 71,
      "outputs": []
    },
    {
      "cell_type": "code",
      "source": [
        "word_embeddings = bert_model(input_ids,attention_mask=attention_masks)[0] # 0 --> final hidden state, 1 --> pooling output\n",
        "\n",
        "\n",
        "output = Flatten()(word_embeddings)\n",
        "output = Dense(units=1024,activation='relu')(output)\n",
        "output = BatchNormalization()(output)\n",
        "output = Dropout(0.25)(output)\n",
        "output = Dense(units=512,activation='relu')(output)\n",
        "output = Dropout(0.25)(output)\n",
        "output = Dense(units=256,activation='relu')(output)\n",
        "output = BatchNormalization()(output)\n",
        "output = Dropout(0.25)(output)\n",
        "output = Dense(units=128,activation='relu')(output)\n",
        "output = Dropout(0.25)(output)\n",
        "output = Dense(units=64,activation='relu')(output)\n",
        "output = Dense(units=25,activation='softmax')(output)\n",
        "\n",
        "model = Model(inputs=[input_ids,attention_masks],outputs=output)\n",
        "model.layers"
      ],
      "metadata": {
        "colab": {
          "base_uri": "https://localhost:8080/"
        },
        "id": "14pvjMf0PyeT",
        "outputId": "129b302e-fff4-40aa-b1da-25b715d36b95"
      },
      "execution_count": 72,
      "outputs": [
        {
          "output_type": "execute_result",
          "data": {
            "text/plain": [
              "[<keras.engine.input_layer.InputLayer at 0x7fca045c6eb0>,\n",
              " <keras.engine.input_layer.InputLayer at 0x7fc96351f4c0>,\n",
              " <transformers.models.distilbert.modeling_tf_distilbert.TFDistilBertForSequenceClassification at 0x7fc8dd8283d0>,\n",
              " <keras.layers.reshaping.flatten.Flatten at 0x7fc8e698aee0>,\n",
              " <keras.layers.core.dense.Dense at 0x7fc8e71884f0>,\n",
              " <keras.layers.normalization.batch_normalization.BatchNormalization at 0x7fc959d69ac0>,\n",
              " <keras.layers.regularization.dropout.Dropout at 0x7fc8e6eeaeb0>,\n",
              " <keras.layers.core.dense.Dense at 0x7fc8de042640>,\n",
              " <keras.layers.regularization.dropout.Dropout at 0x7fc8e6fbd880>,\n",
              " <keras.layers.core.dense.Dense at 0x7fc8ddfee100>,\n",
              " <keras.layers.normalization.batch_normalization.BatchNormalization at 0x7fc8e6f74fd0>,\n",
              " <keras.layers.regularization.dropout.Dropout at 0x7fc8e6deb4f0>,\n",
              " <keras.layers.core.dense.Dense at 0x7fc8e6deb5b0>,\n",
              " <keras.layers.regularization.dropout.Dropout at 0x7fc8de00a8b0>,\n",
              " <keras.layers.core.dense.Dense at 0x7fc8e6dfb460>,\n",
              " <keras.layers.core.dense.Dense at 0x7fc8e6dfb790>]"
            ]
          },
          "metadata": {},
          "execution_count": 72
        }
      ]
    },
    {
      "cell_type": "code",
      "source": [
        "model.layers[2].trainable = True"
      ],
      "metadata": {
        "id": "fhyfwG3kP3vX"
      },
      "execution_count": 73,
      "outputs": []
    },
    {
      "cell_type": "code",
      "source": [
        "model.summary()"
      ],
      "metadata": {
        "colab": {
          "base_uri": "https://localhost:8080/"
        },
        "id": "0qldQNpwP6mW",
        "outputId": "0e57586f-5a24-4235-c3b1-2290b334ff27"
      },
      "execution_count": 74,
      "outputs": [
        {
          "output_type": "stream",
          "name": "stdout",
          "text": [
            "Model: \"model_1\"\n",
            "__________________________________________________________________________________________________\n",
            " Layer (type)                   Output Shape         Param #     Connected to                     \n",
            "==================================================================================================\n",
            " input_ids (InputLayer)         [(None, 512)]        0           []                               \n",
            "                                                                                                  \n",
            " attention_mask (InputLayer)    [(None, 512)]        0           []                               \n",
            "                                                                                                  \n",
            " tf_distil_bert_for_sequence_cl  TFSequenceClassifie  66962700   ['input_ids[0][0]',              \n",
            " assification_1 (TFDistilBertFo  rOutput(loss=None,               'attention_mask[0][0]']         \n",
            " rSequenceClassification)       logits=(None, 12),                                                \n",
            "                                 hidden_states=None                                               \n",
            "                                , attentions=None)                                                \n",
            "                                                                                                  \n",
            " flatten_1 (Flatten)            (None, 12)           0           ['tf_distil_bert_for_sequence_cla\n",
            "                                                                 ssification_1[0][0]']            \n",
            "                                                                                                  \n",
            " dense_6 (Dense)                (None, 1024)         13312       ['flatten_1[0][0]']              \n",
            "                                                                                                  \n",
            " batch_normalization_2 (BatchNo  (None, 1024)        4096        ['dense_6[0][0]']                \n",
            " rmalization)                                                                                     \n",
            "                                                                                                  \n",
            " dropout_44 (Dropout)           (None, 1024)         0           ['batch_normalization_2[0][0]']  \n",
            "                                                                                                  \n",
            " dense_7 (Dense)                (None, 512)          524800      ['dropout_44[0][0]']             \n",
            "                                                                                                  \n",
            " dropout_45 (Dropout)           (None, 512)          0           ['dense_7[0][0]']                \n",
            "                                                                                                  \n",
            " dense_8 (Dense)                (None, 256)          131328      ['dropout_45[0][0]']             \n",
            "                                                                                                  \n",
            " batch_normalization_3 (BatchNo  (None, 256)         1024        ['dense_8[0][0]']                \n",
            " rmalization)                                                                                     \n",
            "                                                                                                  \n",
            " dropout_46 (Dropout)           (None, 256)          0           ['batch_normalization_3[0][0]']  \n",
            "                                                                                                  \n",
            " dense_9 (Dense)                (None, 128)          32896       ['dropout_46[0][0]']             \n",
            "                                                                                                  \n",
            " dropout_47 (Dropout)           (None, 128)          0           ['dense_9[0][0]']                \n",
            "                                                                                                  \n",
            " dense_10 (Dense)               (None, 64)           8256        ['dropout_47[0][0]']             \n",
            "                                                                                                  \n",
            " dense_11 (Dense)               (None, 25)           1625        ['dense_10[0][0]']               \n",
            "                                                                                                  \n",
            "==================================================================================================\n",
            "Total params: 67,680,037\n",
            "Trainable params: 67,677,477\n",
            "Non-trainable params: 2,560\n",
            "__________________________________________________________________________________________________\n"
          ]
        }
      ]
    },
    {
      "cell_type": "code",
      "source": [
        "\"\"\"\n",
        "adam = Adam(learning_rate=5e-5,\n",
        "           epsilon=2e-8,\n",
        "           decay=0.01,\n",
        "           clipnorm=1.0)\n",
        "\"\"\"\n",
        "import tensorflow as tf\n",
        "epochs = 50\n",
        "learning_rate = 0.01\n",
        "decay_rate = learning_rate / epochs\n",
        "adam = tf.keras.optimizers.legacy.Adam(learning_rate=5e-5,\n",
        "           epsilon=2e-8,\n",
        "           decay=0.01,\n",
        "           clipnorm=1.0)\n",
        "\n",
        "model.compile(loss='sparse_categorical_crossentropy',optimizer=adam,metrics=SparseCategoricalAccuracy('balanced_accuracy'))"
      ],
      "metadata": {
        "id": "P1ypTUROQDYT"
      },
      "execution_count": 75,
      "outputs": []
    },
    {
      "cell_type": "code",
      "source": [
        "es = EarlyStopping(monitor='val_balanced_accuracy',patience=250,verbose=1,mode='max',restore_best_weights=True)\n",
        "mc = ModelCheckpoint('resume_parser.h5',monitor='val_balanced_accuracy',mode='max',verbose=1,save_best_only=True)\n",
        "\n",
        "r = model.fit(x={'input_ids': X_train['input_ids'], 'attention_mask': X_train['attention_mask']},\n",
        "             y=train_df.Category,\n",
        "             epochs=75,\n",
        "             batch_size=16,\n",
        "             callbacks=[es,mc],\n",
        "             validation_data=({'input_ids': X_test['input_ids'], 'attention_mask': X_test['attention_mask']},test_df.Category))"
      ],
      "metadata": {
        "colab": {
          "base_uri": "https://localhost:8080/"
        },
        "id": "xywxgh34RG7Z",
        "outputId": "9b0199ac-1c9f-4ed3-976d-1364cf514fc0"
      },
      "execution_count": 77,
      "outputs": [
        {
          "output_type": "stream",
          "name": "stdout",
          "text": [
            "Epoch 1/75\n",
            "55/55 [==============================] - ETA: 0s - loss: 3.5452 - balanced_accuracy: 0.0428\n",
            "Epoch 1: val_balanced_accuracy improved from -inf to 0.05155, saving model to resume_parser.h5\n",
            "55/55 [==============================] - 60s 1s/step - loss: 3.5452 - balanced_accuracy: 0.0428 - val_loss: 3.2219 - val_balanced_accuracy: 0.0515\n",
            "Epoch 2/75\n",
            "55/55 [==============================] - ETA: 0s - loss: 3.4488 - balanced_accuracy: 0.0532\n",
            "Epoch 2: val_balanced_accuracy did not improve from 0.05155\n",
            "55/55 [==============================] - 53s 970ms/step - loss: 3.4488 - balanced_accuracy: 0.0532 - val_loss: 3.2193 - val_balanced_accuracy: 0.0412\n",
            "Epoch 3/75\n",
            "55/55 [==============================] - ETA: 0s - loss: 3.3514 - balanced_accuracy: 0.0590\n",
            "Epoch 3: val_balanced_accuracy did not improve from 0.05155\n",
            "55/55 [==============================] - 53s 959ms/step - loss: 3.3514 - balanced_accuracy: 0.0590 - val_loss: 3.1981 - val_balanced_accuracy: 0.0515\n",
            "Epoch 4/75\n",
            "55/55 [==============================] - ETA: 0s - loss: 3.2880 - balanced_accuracy: 0.0728\n",
            "Epoch 4: val_balanced_accuracy did not improve from 0.05155\n",
            "55/55 [==============================] - 54s 978ms/step - loss: 3.2880 - balanced_accuracy: 0.0728 - val_loss: 3.2130 - val_balanced_accuracy: 0.0515\n",
            "Epoch 5/75\n",
            "55/55 [==============================] - ETA: 0s - loss: 3.1834 - balanced_accuracy: 0.1017\n",
            "Epoch 5: val_balanced_accuracy did not improve from 0.05155\n",
            "55/55 [==============================] - 53s 971ms/step - loss: 3.1834 - balanced_accuracy: 0.1017 - val_loss: 3.1682 - val_balanced_accuracy: 0.0412\n",
            "Epoch 6/75\n",
            "55/55 [==============================] - ETA: 0s - loss: 3.1739 - balanced_accuracy: 0.1087\n",
            "Epoch 6: val_balanced_accuracy improved from 0.05155 to 0.10309, saving model to resume_parser.h5\n",
            "55/55 [==============================] - 57s 1s/step - loss: 3.1739 - balanced_accuracy: 0.1087 - val_loss: 3.1550 - val_balanced_accuracy: 0.1031\n",
            "Epoch 7/75\n",
            "55/55 [==============================] - ETA: 0s - loss: 3.0954 - balanced_accuracy: 0.1006\n",
            "Epoch 7: val_balanced_accuracy did not improve from 0.10309\n",
            "55/55 [==============================] - 53s 967ms/step - loss: 3.0954 - balanced_accuracy: 0.1006 - val_loss: 3.1107 - val_balanced_accuracy: 0.0928\n",
            "Epoch 8/75\n",
            "55/55 [==============================] - ETA: 0s - loss: 3.0755 - balanced_accuracy: 0.1087\n",
            "Epoch 8: val_balanced_accuracy improved from 0.10309 to 0.13402, saving model to resume_parser.h5\n",
            "55/55 [==============================] - 57s 1s/step - loss: 3.0755 - balanced_accuracy: 0.1087 - val_loss: 3.0286 - val_balanced_accuracy: 0.1340\n",
            "Epoch 9/75\n",
            "55/55 [==============================] - ETA: 0s - loss: 2.9948 - balanced_accuracy: 0.1422\n",
            "Epoch 9: val_balanced_accuracy did not improve from 0.13402\n",
            "55/55 [==============================] - 54s 980ms/step - loss: 2.9948 - balanced_accuracy: 0.1422 - val_loss: 2.9740 - val_balanced_accuracy: 0.1340\n",
            "Epoch 10/75\n",
            "55/55 [==============================] - ETA: 0s - loss: 3.0030 - balanced_accuracy: 0.1295\n",
            "Epoch 10: val_balanced_accuracy improved from 0.13402 to 0.14433, saving model to resume_parser.h5\n",
            "55/55 [==============================] - 56s 1s/step - loss: 3.0030 - balanced_accuracy: 0.1295 - val_loss: 2.8886 - val_balanced_accuracy: 0.1443\n",
            "Epoch 11/75\n",
            "55/55 [==============================] - ETA: 0s - loss: 2.9257 - balanced_accuracy: 0.1503\n",
            "Epoch 11: val_balanced_accuracy improved from 0.14433 to 0.26804, saving model to resume_parser.h5\n",
            "55/55 [==============================] - 57s 1s/step - loss: 2.9257 - balanced_accuracy: 0.1503 - val_loss: 2.7559 - val_balanced_accuracy: 0.2680\n",
            "Epoch 12/75\n",
            "55/55 [==============================] - ETA: 0s - loss: 2.8944 - balanced_accuracy: 0.1514\n",
            "Epoch 12: val_balanced_accuracy improved from 0.26804 to 0.29897, saving model to resume_parser.h5\n",
            "55/55 [==============================] - 57s 1s/step - loss: 2.8944 - balanced_accuracy: 0.1514 - val_loss: 2.7050 - val_balanced_accuracy: 0.2990\n",
            "Epoch 13/75\n",
            "55/55 [==============================] - ETA: 0s - loss: 2.8278 - balanced_accuracy: 0.1723\n",
            "Epoch 13: val_balanced_accuracy improved from 0.29897 to 0.32990, saving model to resume_parser.h5\n",
            "55/55 [==============================] - 56s 1s/step - loss: 2.8278 - balanced_accuracy: 0.1723 - val_loss: 2.5922 - val_balanced_accuracy: 0.3299\n",
            "Epoch 14/75\n",
            "55/55 [==============================] - ETA: 0s - loss: 2.7961 - balanced_accuracy: 0.1723\n",
            "Epoch 14: val_balanced_accuracy improved from 0.32990 to 0.39175, saving model to resume_parser.h5\n",
            "55/55 [==============================] - 57s 1s/step - loss: 2.7961 - balanced_accuracy: 0.1723 - val_loss: 2.5297 - val_balanced_accuracy: 0.3918\n",
            "Epoch 15/75\n",
            "55/55 [==============================] - ETA: 0s - loss: 2.7569 - balanced_accuracy: 0.1919\n",
            "Epoch 15: val_balanced_accuracy improved from 0.39175 to 0.48454, saving model to resume_parser.h5\n",
            "55/55 [==============================] - 57s 1s/step - loss: 2.7569 - balanced_accuracy: 0.1919 - val_loss: 2.4539 - val_balanced_accuracy: 0.4845\n",
            "Epoch 16/75\n",
            "55/55 [==============================] - ETA: 0s - loss: 2.7290 - balanced_accuracy: 0.2162\n",
            "Epoch 16: val_balanced_accuracy did not improve from 0.48454\n",
            "55/55 [==============================] - 54s 976ms/step - loss: 2.7290 - balanced_accuracy: 0.2162 - val_loss: 2.3716 - val_balanced_accuracy: 0.4227\n",
            "Epoch 17/75\n",
            "55/55 [==============================] - ETA: 0s - loss: 2.6328 - balanced_accuracy: 0.2324\n",
            "Epoch 17: val_balanced_accuracy did not improve from 0.48454\n",
            "55/55 [==============================] - 53s 961ms/step - loss: 2.6328 - balanced_accuracy: 0.2324 - val_loss: 2.2951 - val_balanced_accuracy: 0.4330\n",
            "Epoch 18/75\n",
            "55/55 [==============================] - ETA: 0s - loss: 2.6278 - balanced_accuracy: 0.2370\n",
            "Epoch 18: val_balanced_accuracy did not improve from 0.48454\n",
            "55/55 [==============================] - 53s 964ms/step - loss: 2.6278 - balanced_accuracy: 0.2370 - val_loss: 2.2830 - val_balanced_accuracy: 0.4227\n",
            "Epoch 19/75\n",
            "55/55 [==============================] - ETA: 0s - loss: 2.5720 - balanced_accuracy: 0.2566\n",
            "Epoch 19: val_balanced_accuracy improved from 0.48454 to 0.52577, saving model to resume_parser.h5\n",
            "55/55 [==============================] - 57s 1s/step - loss: 2.5720 - balanced_accuracy: 0.2566 - val_loss: 2.2906 - val_balanced_accuracy: 0.5258\n",
            "Epoch 20/75\n",
            "55/55 [==============================] - ETA: 0s - loss: 2.6092 - balanced_accuracy: 0.2659\n",
            "Epoch 20: val_balanced_accuracy did not improve from 0.52577\n",
            "55/55 [==============================] - 53s 968ms/step - loss: 2.6092 - balanced_accuracy: 0.2659 - val_loss: 2.2326 - val_balanced_accuracy: 0.4742\n",
            "Epoch 21/75\n",
            "55/55 [==============================] - ETA: 0s - loss: 2.5631 - balanced_accuracy: 0.2671\n",
            "Epoch 21: val_balanced_accuracy did not improve from 0.52577\n",
            "55/55 [==============================] - 53s 971ms/step - loss: 2.5631 - balanced_accuracy: 0.2671 - val_loss: 2.2193 - val_balanced_accuracy: 0.4948\n",
            "Epoch 22/75\n",
            "55/55 [==============================] - ETA: 0s - loss: 2.4963 - balanced_accuracy: 0.2902\n",
            "Epoch 22: val_balanced_accuracy did not improve from 0.52577\n",
            "55/55 [==============================] - 53s 967ms/step - loss: 2.4963 - balanced_accuracy: 0.2902 - val_loss: 2.1345 - val_balanced_accuracy: 0.4639\n",
            "Epoch 23/75\n",
            "55/55 [==============================] - ETA: 0s - loss: 2.5036 - balanced_accuracy: 0.2867\n",
            "Epoch 23: val_balanced_accuracy did not improve from 0.52577\n",
            "55/55 [==============================] - 53s 967ms/step - loss: 2.5036 - balanced_accuracy: 0.2867 - val_loss: 2.1007 - val_balanced_accuracy: 0.5052\n",
            "Epoch 24/75\n",
            "55/55 [==============================] - ETA: 0s - loss: 2.4606 - balanced_accuracy: 0.3168\n",
            "Epoch 24: val_balanced_accuracy did not improve from 0.52577\n",
            "55/55 [==============================] - 53s 961ms/step - loss: 2.4606 - balanced_accuracy: 0.3168 - val_loss: 2.0908 - val_balanced_accuracy: 0.5155\n",
            "Epoch 25/75\n",
            "55/55 [==============================] - ETA: 0s - loss: 2.4464 - balanced_accuracy: 0.3064\n",
            "Epoch 25: val_balanced_accuracy improved from 0.52577 to 0.54639, saving model to resume_parser.h5\n",
            "55/55 [==============================] - 57s 1s/step - loss: 2.4464 - balanced_accuracy: 0.3064 - val_loss: 2.0138 - val_balanced_accuracy: 0.5464\n",
            "Epoch 26/75\n",
            "55/55 [==============================] - ETA: 0s - loss: 2.3844 - balanced_accuracy: 0.3468\n",
            "Epoch 26: val_balanced_accuracy improved from 0.54639 to 0.57732, saving model to resume_parser.h5\n",
            "55/55 [==============================] - 57s 1s/step - loss: 2.3844 - balanced_accuracy: 0.3468 - val_loss: 2.0377 - val_balanced_accuracy: 0.5773\n",
            "Epoch 27/75\n",
            "55/55 [==============================] - ETA: 0s - loss: 2.3755 - balanced_accuracy: 0.3306\n",
            "Epoch 27: val_balanced_accuracy did not improve from 0.57732\n",
            "55/55 [==============================] - 54s 977ms/step - loss: 2.3755 - balanced_accuracy: 0.3306 - val_loss: 2.0130 - val_balanced_accuracy: 0.5567\n",
            "Epoch 28/75\n",
            "55/55 [==============================] - ETA: 0s - loss: 2.4096 - balanced_accuracy: 0.3237\n",
            "Epoch 28: val_balanced_accuracy improved from 0.57732 to 0.58763, saving model to resume_parser.h5\n",
            "55/55 [==============================] - 57s 1s/step - loss: 2.4096 - balanced_accuracy: 0.3237 - val_loss: 1.9701 - val_balanced_accuracy: 0.5876\n",
            "Epoch 29/75\n",
            "55/55 [==============================] - ETA: 0s - loss: 2.3326 - balanced_accuracy: 0.3665\n",
            "Epoch 29: val_balanced_accuracy improved from 0.58763 to 0.61856, saving model to resume_parser.h5\n",
            "55/55 [==============================] - 57s 1s/step - loss: 2.3326 - balanced_accuracy: 0.3665 - val_loss: 1.9450 - val_balanced_accuracy: 0.6186\n",
            "Epoch 30/75\n",
            "55/55 [==============================] - ETA: 0s - loss: 2.3298 - balanced_accuracy: 0.3723\n",
            "Epoch 30: val_balanced_accuracy did not improve from 0.61856\n",
            "55/55 [==============================] - 53s 964ms/step - loss: 2.3298 - balanced_accuracy: 0.3723 - val_loss: 1.8895 - val_balanced_accuracy: 0.6082\n",
            "Epoch 31/75\n",
            "55/55 [==============================] - ETA: 0s - loss: 2.3133 - balanced_accuracy: 0.3723\n",
            "Epoch 31: val_balanced_accuracy improved from 0.61856 to 0.62887, saving model to resume_parser.h5\n",
            "55/55 [==============================] - 57s 1s/step - loss: 2.3133 - balanced_accuracy: 0.3723 - val_loss: 1.8468 - val_balanced_accuracy: 0.6289\n",
            "Epoch 32/75\n",
            "55/55 [==============================] - ETA: 0s - loss: 2.2955 - balanced_accuracy: 0.3503\n",
            "Epoch 32: val_balanced_accuracy did not improve from 0.62887\n",
            "55/55 [==============================] - 54s 981ms/step - loss: 2.2955 - balanced_accuracy: 0.3503 - val_loss: 1.8452 - val_balanced_accuracy: 0.5567\n",
            "Epoch 33/75\n",
            "55/55 [==============================] - ETA: 0s - loss: 2.2522 - balanced_accuracy: 0.3723\n",
            "Epoch 33: val_balanced_accuracy did not improve from 0.62887\n",
            "55/55 [==============================] - 53s 970ms/step - loss: 2.2522 - balanced_accuracy: 0.3723 - val_loss: 1.7642 - val_balanced_accuracy: 0.5979\n",
            "Epoch 34/75\n",
            "55/55 [==============================] - ETA: 0s - loss: 2.2190 - balanced_accuracy: 0.4150\n",
            "Epoch 34: val_balanced_accuracy did not improve from 0.62887\n",
            "55/55 [==============================] - 54s 975ms/step - loss: 2.2190 - balanced_accuracy: 0.4150 - val_loss: 1.7398 - val_balanced_accuracy: 0.5979\n",
            "Epoch 35/75\n",
            "55/55 [==============================] - ETA: 0s - loss: 2.1959 - balanced_accuracy: 0.4185\n",
            "Epoch 35: val_balanced_accuracy did not improve from 0.62887\n",
            "55/55 [==============================] - 54s 977ms/step - loss: 2.1959 - balanced_accuracy: 0.4185 - val_loss: 1.7295 - val_balanced_accuracy: 0.5979\n",
            "Epoch 36/75\n",
            "55/55 [==============================] - ETA: 0s - loss: 2.2110 - balanced_accuracy: 0.3931\n",
            "Epoch 36: val_balanced_accuracy did not improve from 0.62887\n",
            "55/55 [==============================] - 54s 975ms/step - loss: 2.2110 - balanced_accuracy: 0.3931 - val_loss: 1.7156 - val_balanced_accuracy: 0.6186\n",
            "Epoch 37/75\n",
            "55/55 [==============================] - ETA: 0s - loss: 2.1840 - balanced_accuracy: 0.4277\n",
            "Epoch 37: val_balanced_accuracy improved from 0.62887 to 0.64948, saving model to resume_parser.h5\n",
            "55/55 [==============================] - 56s 1s/step - loss: 2.1840 - balanced_accuracy: 0.4277 - val_loss: 1.7105 - val_balanced_accuracy: 0.6495\n",
            "Epoch 38/75\n",
            "55/55 [==============================] - ETA: 0s - loss: 2.1656 - balanced_accuracy: 0.4324\n",
            "Epoch 38: val_balanced_accuracy did not improve from 0.64948\n",
            "55/55 [==============================] - 53s 968ms/step - loss: 2.1656 - balanced_accuracy: 0.4324 - val_loss: 1.6979 - val_balanced_accuracy: 0.5979\n",
            "Epoch 39/75\n",
            "55/55 [==============================] - ETA: 0s - loss: 2.1493 - balanced_accuracy: 0.4104\n",
            "Epoch 39: val_balanced_accuracy did not improve from 0.64948\n",
            "55/55 [==============================] - 53s 971ms/step - loss: 2.1493 - balanced_accuracy: 0.4104 - val_loss: 1.6533 - val_balanced_accuracy: 0.6392\n",
            "Epoch 40/75\n",
            "55/55 [==============================] - ETA: 0s - loss: 2.1263 - balanced_accuracy: 0.4405\n",
            "Epoch 40: val_balanced_accuracy did not improve from 0.64948\n",
            "55/55 [==============================] - 54s 977ms/step - loss: 2.1263 - balanced_accuracy: 0.4405 - val_loss: 1.6566 - val_balanced_accuracy: 0.6186\n",
            "Epoch 41/75\n",
            "55/55 [==============================] - ETA: 0s - loss: 2.1031 - balanced_accuracy: 0.4231\n",
            "Epoch 41: val_balanced_accuracy did not improve from 0.64948\n",
            "55/55 [==============================] - 53s 972ms/step - loss: 2.1031 - balanced_accuracy: 0.4231 - val_loss: 1.6354 - val_balanced_accuracy: 0.5773\n",
            "Epoch 42/75\n",
            "55/55 [==============================] - ETA: 0s - loss: 2.0883 - balanced_accuracy: 0.4462\n",
            "Epoch 42: val_balanced_accuracy did not improve from 0.64948\n",
            "55/55 [==============================] - 54s 975ms/step - loss: 2.0883 - balanced_accuracy: 0.4462 - val_loss: 1.6178 - val_balanced_accuracy: 0.5979\n",
            "Epoch 43/75\n",
            "55/55 [==============================] - ETA: 0s - loss: 2.0953 - balanced_accuracy: 0.4486\n",
            "Epoch 43: val_balanced_accuracy did not improve from 0.64948\n",
            "55/55 [==============================] - 53s 967ms/step - loss: 2.0953 - balanced_accuracy: 0.4486 - val_loss: 1.6064 - val_balanced_accuracy: 0.6289\n",
            "Epoch 44/75\n",
            "55/55 [==============================] - ETA: 0s - loss: 2.0611 - balanced_accuracy: 0.4532\n",
            "Epoch 44: val_balanced_accuracy did not improve from 0.64948\n",
            "55/55 [==============================] - 53s 966ms/step - loss: 2.0611 - balanced_accuracy: 0.4532 - val_loss: 1.5713 - val_balanced_accuracy: 0.6392\n",
            "Epoch 45/75\n",
            "55/55 [==============================] - ETA: 0s - loss: 2.0348 - balanced_accuracy: 0.4532\n",
            "Epoch 45: val_balanced_accuracy did not improve from 0.64948\n",
            "55/55 [==============================] - 53s 966ms/step - loss: 2.0348 - balanced_accuracy: 0.4532 - val_loss: 1.5698 - val_balanced_accuracy: 0.6082\n",
            "Epoch 46/75\n",
            "55/55 [==============================] - ETA: 0s - loss: 2.0468 - balanced_accuracy: 0.4428\n",
            "Epoch 46: val_balanced_accuracy did not improve from 0.64948\n",
            "55/55 [==============================] - 53s 965ms/step - loss: 2.0468 - balanced_accuracy: 0.4428 - val_loss: 1.5383 - val_balanced_accuracy: 0.6392\n",
            "Epoch 47/75\n",
            "55/55 [==============================] - ETA: 0s - loss: 2.0642 - balanced_accuracy: 0.4613\n",
            "Epoch 47: val_balanced_accuracy did not improve from 0.64948\n",
            "55/55 [==============================] - 54s 976ms/step - loss: 2.0642 - balanced_accuracy: 0.4613 - val_loss: 1.5356 - val_balanced_accuracy: 0.6289\n",
            "Epoch 48/75\n",
            "55/55 [==============================] - ETA: 0s - loss: 1.9984 - balanced_accuracy: 0.4775\n",
            "Epoch 48: val_balanced_accuracy did not improve from 0.64948\n",
            "55/55 [==============================] - 54s 975ms/step - loss: 1.9984 - balanced_accuracy: 0.4775 - val_loss: 1.5190 - val_balanced_accuracy: 0.6289\n",
            "Epoch 49/75\n",
            "55/55 [==============================] - ETA: 0s - loss: 2.0248 - balanced_accuracy: 0.4624\n",
            "Epoch 49: val_balanced_accuracy did not improve from 0.64948\n",
            "55/55 [==============================] - 54s 976ms/step - loss: 2.0248 - balanced_accuracy: 0.4624 - val_loss: 1.4879 - val_balanced_accuracy: 0.6186\n",
            "Epoch 50/75\n",
            "55/55 [==============================] - ETA: 0s - loss: 1.9927 - balanced_accuracy: 0.4786\n",
            "Epoch 50: val_balanced_accuracy did not improve from 0.64948\n",
            "55/55 [==============================] - 54s 977ms/step - loss: 1.9927 - balanced_accuracy: 0.4786 - val_loss: 1.4917 - val_balanced_accuracy: 0.6186\n",
            "Epoch 51/75\n",
            "55/55 [==============================] - ETA: 0s - loss: 1.9758 - balanced_accuracy: 0.4844\n",
            "Epoch 51: val_balanced_accuracy did not improve from 0.64948\n",
            "55/55 [==============================] - 53s 968ms/step - loss: 1.9758 - balanced_accuracy: 0.4844 - val_loss: 1.4830 - val_balanced_accuracy: 0.6186\n",
            "Epoch 52/75\n",
            "55/55 [==============================] - ETA: 0s - loss: 1.9464 - balanced_accuracy: 0.4971\n",
            "Epoch 52: val_balanced_accuracy did not improve from 0.64948\n",
            "55/55 [==============================] - 53s 964ms/step - loss: 1.9464 - balanced_accuracy: 0.4971 - val_loss: 1.4439 - val_balanced_accuracy: 0.6289\n",
            "Epoch 53/75\n",
            "55/55 [==============================] - ETA: 0s - loss: 1.9662 - balanced_accuracy: 0.4879\n",
            "Epoch 53: val_balanced_accuracy did not improve from 0.64948\n",
            "55/55 [==============================] - 53s 963ms/step - loss: 1.9662 - balanced_accuracy: 0.4879 - val_loss: 1.4345 - val_balanced_accuracy: 0.6392\n",
            "Epoch 54/75\n",
            "55/55 [==============================] - ETA: 0s - loss: 1.9473 - balanced_accuracy: 0.4728\n",
            "Epoch 54: val_balanced_accuracy did not improve from 0.64948\n",
            "55/55 [==============================] - 53s 965ms/step - loss: 1.9473 - balanced_accuracy: 0.4728 - val_loss: 1.4650 - val_balanced_accuracy: 0.6289\n",
            "Epoch 55/75\n",
            "55/55 [==============================] - ETA: 0s - loss: 1.9196 - balanced_accuracy: 0.4786\n",
            "Epoch 55: val_balanced_accuracy did not improve from 0.64948\n",
            "55/55 [==============================] - 54s 976ms/step - loss: 1.9196 - balanced_accuracy: 0.4786 - val_loss: 1.4415 - val_balanced_accuracy: 0.6289\n",
            "Epoch 56/75\n",
            "55/55 [==============================] - ETA: 0s - loss: 1.9025 - balanced_accuracy: 0.4775\n",
            "Epoch 56: val_balanced_accuracy did not improve from 0.64948\n",
            "55/55 [==============================] - 53s 965ms/step - loss: 1.9025 - balanced_accuracy: 0.4775 - val_loss: 1.4307 - val_balanced_accuracy: 0.6289\n",
            "Epoch 57/75\n",
            "55/55 [==============================] - ETA: 0s - loss: 1.9325 - balanced_accuracy: 0.4902\n",
            "Epoch 57: val_balanced_accuracy did not improve from 0.64948\n",
            "55/55 [==============================] - 54s 977ms/step - loss: 1.9325 - balanced_accuracy: 0.4902 - val_loss: 1.3988 - val_balanced_accuracy: 0.6392\n",
            "Epoch 58/75\n",
            "55/55 [==============================] - ETA: 0s - loss: 1.8871 - balanced_accuracy: 0.4960\n",
            "Epoch 58: val_balanced_accuracy did not improve from 0.64948\n",
            "55/55 [==============================] - 54s 978ms/step - loss: 1.8871 - balanced_accuracy: 0.4960 - val_loss: 1.3978 - val_balanced_accuracy: 0.6186\n",
            "Epoch 59/75\n",
            "55/55 [==============================] - ETA: 0s - loss: 1.9208 - balanced_accuracy: 0.4902\n",
            "Epoch 59: val_balanced_accuracy did not improve from 0.64948\n",
            "55/55 [==============================] - 54s 977ms/step - loss: 1.9208 - balanced_accuracy: 0.4902 - val_loss: 1.3850 - val_balanced_accuracy: 0.6289\n",
            "Epoch 60/75\n",
            "55/55 [==============================] - ETA: 0s - loss: 1.8710 - balanced_accuracy: 0.5110\n",
            "Epoch 60: val_balanced_accuracy did not improve from 0.64948\n",
            "55/55 [==============================] - 54s 978ms/step - loss: 1.8710 - balanced_accuracy: 0.5110 - val_loss: 1.3842 - val_balanced_accuracy: 0.6082\n",
            "Epoch 61/75\n",
            "55/55 [==============================] - ETA: 0s - loss: 1.8649 - balanced_accuracy: 0.5364\n",
            "Epoch 61: val_balanced_accuracy did not improve from 0.64948\n",
            "55/55 [==============================] - 53s 968ms/step - loss: 1.8649 - balanced_accuracy: 0.5364 - val_loss: 1.4021 - val_balanced_accuracy: 0.5979\n",
            "Epoch 62/75\n",
            "55/55 [==============================] - ETA: 0s - loss: 1.8736 - balanced_accuracy: 0.5087\n",
            "Epoch 62: val_balanced_accuracy did not improve from 0.64948\n",
            "55/55 [==============================] - 53s 965ms/step - loss: 1.8736 - balanced_accuracy: 0.5087 - val_loss: 1.3744 - val_balanced_accuracy: 0.5979\n",
            "Epoch 63/75\n",
            "55/55 [==============================] - ETA: 0s - loss: 1.8740 - balanced_accuracy: 0.4936\n",
            "Epoch 63: val_balanced_accuracy did not improve from 0.64948\n",
            "55/55 [==============================] - 54s 976ms/step - loss: 1.8740 - balanced_accuracy: 0.4936 - val_loss: 1.3383 - val_balanced_accuracy: 0.6186\n",
            "Epoch 64/75\n",
            "55/55 [==============================] - ETA: 0s - loss: 1.8628 - balanced_accuracy: 0.4971\n",
            "Epoch 64: val_balanced_accuracy did not improve from 0.64948\n",
            "55/55 [==============================] - 54s 973ms/step - loss: 1.8628 - balanced_accuracy: 0.4971 - val_loss: 1.3308 - val_balanced_accuracy: 0.6186\n",
            "Epoch 65/75\n",
            "55/55 [==============================] - ETA: 0s - loss: 1.8383 - balanced_accuracy: 0.5098\n",
            "Epoch 65: val_balanced_accuracy did not improve from 0.64948\n",
            "55/55 [==============================] - 53s 968ms/step - loss: 1.8383 - balanced_accuracy: 0.5098 - val_loss: 1.3221 - val_balanced_accuracy: 0.6289\n",
            "Epoch 66/75\n",
            "55/55 [==============================] - ETA: 0s - loss: 1.8175 - balanced_accuracy: 0.5225\n",
            "Epoch 66: val_balanced_accuracy did not improve from 0.64948\n",
            "55/55 [==============================] - 54s 980ms/step - loss: 1.8175 - balanced_accuracy: 0.5225 - val_loss: 1.3114 - val_balanced_accuracy: 0.6392\n",
            "Epoch 67/75\n",
            "55/55 [==============================] - ETA: 0s - loss: 1.7963 - balanced_accuracy: 0.5318\n",
            "Epoch 67: val_balanced_accuracy improved from 0.64948 to 0.65979, saving model to resume_parser.h5\n",
            "55/55 [==============================] - 57s 1s/step - loss: 1.7963 - balanced_accuracy: 0.5318 - val_loss: 1.2983 - val_balanced_accuracy: 0.6598\n",
            "Epoch 68/75\n",
            "55/55 [==============================] - ETA: 0s - loss: 1.7935 - balanced_accuracy: 0.5353\n",
            "Epoch 68: val_balanced_accuracy did not improve from 0.65979\n",
            "55/55 [==============================] - 53s 968ms/step - loss: 1.7935 - balanced_accuracy: 0.5353 - val_loss: 1.2992 - val_balanced_accuracy: 0.6598\n",
            "Epoch 69/75\n",
            "55/55 [==============================] - ETA: 0s - loss: 1.7829 - balanced_accuracy: 0.5295\n",
            "Epoch 69: val_balanced_accuracy did not improve from 0.65979\n",
            "55/55 [==============================] - 53s 962ms/step - loss: 1.7829 - balanced_accuracy: 0.5295 - val_loss: 1.2878 - val_balanced_accuracy: 0.6598\n",
            "Epoch 70/75\n",
            "55/55 [==============================] - ETA: 0s - loss: 1.8040 - balanced_accuracy: 0.5410\n",
            "Epoch 70: val_balanced_accuracy did not improve from 0.65979\n",
            "55/55 [==============================] - 54s 978ms/step - loss: 1.8040 - balanced_accuracy: 0.5410 - val_loss: 1.2887 - val_balanced_accuracy: 0.6598\n",
            "Epoch 71/75\n",
            "55/55 [==============================] - ETA: 0s - loss: 1.7873 - balanced_accuracy: 0.5399\n",
            "Epoch 71: val_balanced_accuracy did not improve from 0.65979\n",
            "55/55 [==============================] - 54s 974ms/step - loss: 1.7873 - balanced_accuracy: 0.5399 - val_loss: 1.2724 - val_balanced_accuracy: 0.6598\n",
            "Epoch 72/75\n",
            "55/55 [==============================] - ETA: 0s - loss: 1.7632 - balanced_accuracy: 0.5538\n",
            "Epoch 72: val_balanced_accuracy did not improve from 0.65979\n",
            "55/55 [==============================] - 53s 963ms/step - loss: 1.7632 - balanced_accuracy: 0.5538 - val_loss: 1.2808 - val_balanced_accuracy: 0.6598\n",
            "Epoch 73/75\n",
            "55/55 [==============================] - ETA: 0s - loss: 1.7683 - balanced_accuracy: 0.5387\n",
            "Epoch 73: val_balanced_accuracy did not improve from 0.65979\n",
            "55/55 [==============================] - 54s 975ms/step - loss: 1.7683 - balanced_accuracy: 0.5387 - val_loss: 1.2592 - val_balanced_accuracy: 0.6598\n",
            "Epoch 74/75\n",
            "55/55 [==============================] - ETA: 0s - loss: 1.7462 - balanced_accuracy: 0.5618\n",
            "Epoch 74: val_balanced_accuracy improved from 0.65979 to 0.68041, saving model to resume_parser.h5\n",
            "55/55 [==============================] - 57s 1s/step - loss: 1.7462 - balanced_accuracy: 0.5618 - val_loss: 1.2567 - val_balanced_accuracy: 0.6804\n",
            "Epoch 75/75\n",
            "55/55 [==============================] - ETA: 0s - loss: 1.7276 - balanced_accuracy: 0.5630\n",
            "Epoch 75: val_balanced_accuracy did not improve from 0.68041\n",
            "55/55 [==============================] - 53s 969ms/step - loss: 1.7276 - balanced_accuracy: 0.5630 - val_loss: 1.2441 - val_balanced_accuracy: 0.6701\n"
          ]
        }
      ]
    },
    {
      "cell_type": "code",
      "source": [
        "score, acc = model.evaluate({'input_ids': X_test['input_ids'], 'attention_mask': X_test['attention_mask']},test_df.Category)\n",
        "print(\"Test Accuracy:\", acc)"
      ],
      "metadata": {
        "id": "ugHM_1HLUqcs",
        "colab": {
          "base_uri": "https://localhost:8080/"
        },
        "outputId": "c78f08ab-fcba-4c81-cd8e-96acdb4363f8"
      },
      "execution_count": 78,
      "outputs": [
        {
          "output_type": "stream",
          "name": "stdout",
          "text": [
            "4/4 [==============================] - 2s 454ms/step - loss: 1.2441 - balanced_accuracy: 0.6701\n",
            "Test Accuracy: 0.6701030731201172\n"
          ]
        }
      ]
    },
    {
      "cell_type": "code",
      "source": [
        "test_predictions = model.predict({'input_ids': X_test['input_ids'], 'attention_mask': X_test['attention_mask']})\n",
        "test_predictions = np.argmax(test_predictions,axis=1)\n",
        "test_predictions"
      ],
      "metadata": {
        "id": "ErHfV3q_UwWd",
        "colab": {
          "base_uri": "https://localhost:8080/"
        },
        "outputId": "a3d67b3b-99b4-49e5-cbe6-06153008a3b5"
      },
      "execution_count": 79,
      "outputs": [
        {
          "output_type": "stream",
          "name": "stdout",
          "text": [
            "4/4 [==============================] - 4s 464ms/step\n"
          ]
        },
        {
          "output_type": "execute_result",
          "data": {
            "text/plain": [
              "array([ 1, 14,  9, 15,  1, 14, 24, 21,  1, 15, 18,  5, 24, 24, 14,  7,  1,\n",
              "       17, 23, 14,  5, 17,  9, 13, 14, 20,  4,  9, 20,  9, 20,  4,  4, 21,\n",
              "        6,  5,  9, 23, 13, 24, 14, 24, 20,  9,  9, 18, 14, 21, 23, 20, 14,\n",
              "       20, 14, 13,  1, 24,  6, 23, 16,  6, 13, 21, 14, 23, 24, 15, 16,  5,\n",
              "       16, 22, 14,  9,  6, 21, 23,  1, 23,  1, 15, 18, 24, 19, 20,  1,  4,\n",
              "        1,  1, 20, 14, 24,  9, 21, 15, 15,  3, 20, 20])"
            ]
          },
          "metadata": {},
          "execution_count": 79
        }
      ]
    },
    {
      "cell_type": "code",
      "source": [
        "print('Accuracy:', accuracy_score(test_predictions,test_df.Category))\n",
        "print('Precision:', precision_score(test_predictions,test_df.Category, average='weighted'))\n",
        "print('Recall:', recall_score(test_predictions,test_df.Category, average='weighted'))\n",
        "print('F1 score:', f1_score(test_predictions,test_df.Category, average='micro'))"
      ],
      "metadata": {
        "id": "IigpgrBF-0P3",
        "colab": {
          "base_uri": "https://localhost:8080/"
        },
        "outputId": "d9d053aa-9e4d-4f87-b105-8faed1c06f8b"
      },
      "execution_count": 80,
      "outputs": [
        {
          "output_type": "stream",
          "name": "stdout",
          "text": [
            "Accuracy: 0.6701030927835051\n",
            "Precision: 0.9224349533627885\n",
            "Recall: 0.6701030927835051\n",
            "F1 score: 0.6701030927835051\n"
          ]
        }
      ]
    }
  ]
}