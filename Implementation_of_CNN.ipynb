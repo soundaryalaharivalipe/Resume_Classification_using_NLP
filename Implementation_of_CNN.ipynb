{
  "cells": [
    {
      "cell_type": "markdown",
      "id": "434d5799",
      "metadata": {
        "papermill": {
          "duration": 0.010723,
          "end_time": "2022-10-07T21:48:36.453342",
          "exception": false,
          "start_time": "2022-10-07T21:48:36.442619",
          "status": "completed"
        },
        "tags": [],
        "id": "434d5799"
      },
      "source": [
        "# Importing the required libraries"
      ]
    },
    {
      "cell_type": "code",
      "execution_count": 1,
      "id": "53abebff",
      "metadata": {
        "_cell_guid": "b1076dfc-b9ad-4769-8c92-a6c4dae69d19",
        "_uuid": "8f2839f25d086af736a60e9eeb907d3b93b6e0e5",
        "execution": {
          "iopub.execute_input": "2022-10-07T21:48:36.473391Z",
          "iopub.status.busy": "2022-10-07T21:48:36.472997Z",
          "iopub.status.idle": "2022-10-07T21:48:42.846050Z",
          "shell.execute_reply": "2022-10-07T21:48:42.845062Z"
        },
        "papermill": {
          "duration": 6.385666,
          "end_time": "2022-10-07T21:48:42.848539",
          "exception": false,
          "start_time": "2022-10-07T21:48:36.462873",
          "status": "completed"
        },
        "tags": [],
        "id": "53abebff"
      },
      "outputs": [],
      "source": [
        "import os\n",
        "import re\n",
        "import sys\n",
        "import nltk\n",
        "from nltk.corpus import stopwords\n",
        "from nltk.stem import PorterStemmer\n",
        "from nltk.stem import WordNetLemmatizer"
      ]
    },
    {
      "cell_type": "code",
      "source": [
        "import numpy as np \n",
        "import pandas as pd \n",
        "import seaborn as sns\n",
        "import itertools\n",
        "from joblib import dump, load\n",
        "from wordcloud import WordCloud\n",
        "import matplotlib.pyplot as plt"
      ],
      "metadata": {
        "id": "i_mZseS5h4Ph"
      },
      "id": "i_mZseS5h4Ph",
      "execution_count": 2,
      "outputs": []
    },
    {
      "cell_type": "code",
      "source": [
        "from keras.models import Sequential,Model\n",
        "from keras.utils.np_utils import to_categorical\n",
        "from keras.layers import Dense, SpatialDropout1D, Embedding"
      ],
      "metadata": {
        "id": "8EtmXb42ivjK"
      },
      "id": "8EtmXb42ivjK",
      "execution_count": 3,
      "outputs": []
    },
    {
      "cell_type": "code",
      "source": [
        "from sklearn.model_selection import train_test_split\n",
        "from sklearn.preprocessing import LabelEncoder\n",
        "from sklearn.feature_extraction.text import CountVectorizer\n",
        "from sklearn.metrics import accuracy_score\n",
        "from sklearn.metrics import confusion_matrix\n",
        "from sklearn.metrics import accuracy_score, precision_score, recall_score, f1_score"
      ],
      "metadata": {
        "id": "xU11VfQ3iEDX"
      },
      "id": "xU11VfQ3iEDX",
      "execution_count": 4,
      "outputs": []
    },
    {
      "cell_type": "markdown",
      "id": "2de4c10c",
      "metadata": {
        "papermill": {
          "duration": 0.010264,
          "end_time": "2022-10-07T21:48:42.868088",
          "exception": false,
          "start_time": "2022-10-07T21:48:42.857824",
          "status": "completed"
        },
        "tags": [],
        "id": "2de4c10c"
      },
      "source": [
        "# Reading the Dataset"
      ]
    },
    {
      "cell_type": "code",
      "execution_count": 5,
      "id": "eba3e1be",
      "metadata": {
        "execution": {
          "iopub.execute_input": "2022-10-07T21:48:42.888074Z",
          "iopub.status.busy": "2022-10-07T21:48:42.886906Z",
          "iopub.status.idle": "2022-10-07T21:48:42.989477Z",
          "shell.execute_reply": "2022-10-07T21:48:42.988635Z"
        },
        "papermill": {
          "duration": 0.114552,
          "end_time": "2022-10-07T21:48:42.991541",
          "exception": false,
          "start_time": "2022-10-07T21:48:42.876989",
          "status": "completed"
        },
        "tags": [],
        "id": "eba3e1be"
      },
      "outputs": [],
      "source": [
        "df = pd.read_csv('ResumeDataSet.csv')"
      ]
    },
    {
      "cell_type": "markdown",
      "id": "d1a425ae",
      "metadata": {
        "papermill": {
          "duration": 0.009111,
          "end_time": "2022-10-07T21:48:43.010240",
          "exception": false,
          "start_time": "2022-10-07T21:48:43.001129",
          "status": "completed"
        },
        "tags": [],
        "id": "d1a425ae"
      },
      "source": [
        "# List of all Categories"
      ]
    },
    {
      "cell_type": "code",
      "execution_count": 6,
      "id": "f77630a5",
      "metadata": {
        "execution": {
          "iopub.execute_input": "2022-10-07T21:48:43.029799Z",
          "iopub.status.busy": "2022-10-07T21:48:43.029495Z",
          "iopub.status.idle": "2022-10-07T21:48:43.043236Z",
          "shell.execute_reply": "2022-10-07T21:48:43.041586Z"
        },
        "papermill": {
          "duration": 0.025757,
          "end_time": "2022-10-07T21:48:43.045215",
          "exception": false,
          "start_time": "2022-10-07T21:48:43.019458",
          "status": "completed"
        },
        "tags": [],
        "id": "f77630a5",
        "outputId": "5023f2b5-25f6-467a-c243-f879e40d72c9",
        "colab": {
          "base_uri": "https://localhost:8080/"
        }
      },
      "outputs": [
        {
          "output_type": "stream",
          "name": "stdout",
          "text": [
            "Data Science\n",
            "HR\n",
            "Advocate\n",
            "Arts\n",
            "Web Designing\n",
            "Mechanical Engineer\n",
            "Sales\n",
            "Health and fitness\n",
            "Civil Engineer\n",
            "Java Developer\n",
            "Business Analyst\n",
            "SAP Developer\n",
            "Automation Testing\n",
            "Electrical Engineering\n",
            "Operations Manager\n",
            "Python Developer\n",
            "DevOps Engineer\n",
            "Network Security Engineer\n",
            "PMO\n",
            "Database\n",
            "Hadoop\n",
            "ETL Developer\n",
            "DotNet Developer\n",
            "Blockchain\n",
            "Testing\n"
          ]
        }
      ],
      "source": [
        "for i in range(len(df['Category'].unique())):\n",
        "    print(df['Category'].unique()[i])"
      ]
    },
    {
      "cell_type": "markdown",
      "id": "13a6ab17",
      "metadata": {
        "papermill": {
          "duration": 0.087884,
          "end_time": "2022-10-07T21:49:16.201630",
          "exception": false,
          "start_time": "2022-10-07T21:49:16.113746",
          "status": "completed"
        },
        "tags": [],
        "id": "13a6ab17"
      },
      "source": [
        "# Visualizing the length disstribution of the content in the Resumes."
      ]
    },
    {
      "cell_type": "code",
      "execution_count": 7,
      "id": "2723b8bd",
      "metadata": {
        "execution": {
          "iopub.execute_input": "2022-10-07T21:49:16.389344Z",
          "iopub.status.busy": "2022-10-07T21:49:16.388802Z",
          "iopub.status.idle": "2022-10-07T21:49:16.698156Z",
          "shell.execute_reply": "2022-10-07T21:49:16.697261Z"
        },
        "papermill": {
          "duration": 0.399107,
          "end_time": "2022-10-07T21:49:16.700197",
          "exception": false,
          "start_time": "2022-10-07T21:49:16.301090",
          "status": "completed"
        },
        "tags": [],
        "id": "2723b8bd",
        "outputId": "c5452bd6-287b-45a8-a21c-7796ff9c19a1",
        "colab": {
          "base_uri": "https://localhost:8080/",
          "height": 732
        }
      },
      "outputs": [
        {
          "output_type": "stream",
          "name": "stderr",
          "text": [
            "<ipython-input-7-4cde9b11b65b>:3: UserWarning: \n",
            "\n",
            "`distplot` is a deprecated function and will be removed in seaborn v0.14.0.\n",
            "\n",
            "Please adapt your code to use either `displot` (a figure-level function with\n",
            "similar flexibility) or `histplot` (an axes-level function for histograms).\n",
            "\n",
            "For a guide to updating your code to use the new functions, please see\n",
            "https://gist.github.com/mwaskom/de44147ed2974457ad6372750bbe5751\n",
            "\n",
            "  sns.distplot(df['length']).set_title('Resume length distribution')\n"
          ]
        },
        {
          "output_type": "execute_result",
          "data": {
            "text/plain": [
              "Text(0.5, 1.0, 'Resume length distribution')"
            ]
          },
          "metadata": {},
          "execution_count": 7
        },
        {
          "output_type": "display_data",
          "data": {
            "text/plain": [
              "<Figure size 1280x600 with 1 Axes>"
            ],
            "image/png": "[encoded data removed]"
          },
          "metadata": {}
        }
      ],
      "source": [
        "df['length'] = df['Resume'].str.len()\n",
        "plt.figure(figsize=(12.8,6))\n",
        "sns.distplot(df['length']).set_title('Resume length distribution')"
      ]
    },
    {
      "cell_type": "markdown",
      "id": "7c0e8e6a",
      "metadata": {
        "papermill": {
          "duration": 0.086146,
          "end_time": "2022-10-07T21:49:16.870768",
          "exception": false,
          "start_time": "2022-10-07T21:49:16.784622",
          "status": "completed"
        },
        "tags": [],
        "id": "7c0e8e6a"
      },
      "source": [
        "# Summary of Length Distribution"
      ]
    },
    {
      "cell_type": "code",
      "execution_count": 8,
      "id": "0b1227f4",
      "metadata": {
        "execution": {
          "iopub.execute_input": "2022-10-07T21:49:17.045657Z",
          "iopub.status.busy": "2022-10-07T21:49:17.044814Z",
          "iopub.status.idle": "2022-10-07T21:49:17.056229Z",
          "shell.execute_reply": "2022-10-07T21:49:17.055222Z"
        },
        "papermill": {
          "duration": 0.101775,
          "end_time": "2022-10-07T21:49:17.058343",
          "exception": false,
          "start_time": "2022-10-07T21:49:16.956568",
          "status": "completed"
        },
        "tags": [],
        "id": "0b1227f4",
        "outputId": "864cc7db-3b2f-4cbe-e97e-acaa23cf3572",
        "colab": {
          "base_uri": "https://localhost:8080/"
        }
      },
      "outputs": [
        {
          "output_type": "execute_result",
          "data": {
            "text/plain": [
              "count      962.000000\n",
              "mean      3160.364865\n",
              "std       2886.528521\n",
              "min        142.000000\n",
              "25%       1217.250000\n",
              "50%       2355.000000\n",
              "75%       4073.750000\n",
              "max      14816.000000\n",
              "Name: length, dtype: float64"
            ]
          },
          "metadata": {},
          "execution_count": 8
        }
      ],
      "source": [
        "df['length'].describe()"
      ]
    },
    {
      "cell_type": "markdown",
      "id": "e8781ed3",
      "metadata": {
        "papermill": {
          "duration": 0.090403,
          "end_time": "2022-10-07T21:49:18.456160",
          "exception": false,
          "start_time": "2022-10-07T21:49:18.365757",
          "status": "completed"
        },
        "tags": [],
        "id": "e8781ed3"
      },
      "source": [
        "# Pre-processing steps"
      ]
    },
    {
      "cell_type": "markdown",
      "id": "8a12dff4",
      "metadata": {
        "papermill": {
          "duration": 0.087268,
          "end_time": "2022-10-07T21:49:18.630750",
          "exception": false,
          "start_time": "2022-10-07T21:49:18.543482",
          "status": "completed"
        },
        "tags": [],
        "id": "8a12dff4"
      },
      "source": [
        "# Checking for missing data"
      ]
    },
    {
      "cell_type": "code",
      "execution_count": 9,
      "id": "0ebcd42e",
      "metadata": {
        "execution": {
          "iopub.execute_input": "2022-10-07T21:49:18.808522Z",
          "iopub.status.busy": "2022-10-07T21:49:18.806075Z",
          "iopub.status.idle": "2022-10-07T21:49:18.815930Z",
          "shell.execute_reply": "2022-10-07T21:49:18.814807Z"
        },
        "papermill": {
          "duration": 0.100863,
          "end_time": "2022-10-07T21:49:18.817924",
          "exception": false,
          "start_time": "2022-10-07T21:49:18.717061",
          "status": "completed"
        },
        "tags": [],
        "id": "0ebcd42e",
        "outputId": "eaf47949-230b-421f-db55-62042ed02724",
        "colab": {
          "base_uri": "https://localhost:8080/"
        }
      },
      "outputs": [
        {
          "output_type": "stream",
          "name": "stdout",
          "text": [
            "Category    0\n",
            "Resume      0\n",
            "length      0\n",
            "dtype: int64\n"
          ]
        }
      ],
      "source": [
        "print(df.isnull().sum())"
      ]
    },
    {
      "cell_type": "markdown",
      "id": "f2ce33db",
      "metadata": {
        "papermill": {
          "duration": 0.086655,
          "end_time": "2022-10-07T21:49:18.988718",
          "exception": false,
          "start_time": "2022-10-07T21:49:18.902063",
          "status": "completed"
        },
        "tags": [],
        "id": "f2ce33db"
      },
      "source": [
        "# Converting the data into lower case and removing words with small lengths"
      ]
    },
    {
      "cell_type": "code",
      "execution_count": 10,
      "id": "2584afed",
      "metadata": {
        "execution": {
          "iopub.execute_input": "2022-10-07T21:49:19.164301Z",
          "iopub.status.busy": "2022-10-07T21:49:19.163499Z",
          "iopub.status.idle": "2022-10-07T21:49:19.609680Z",
          "shell.execute_reply": "2022-10-07T21:49:19.608768Z"
        },
        "papermill": {
          "duration": 0.536674,
          "end_time": "2022-10-07T21:49:19.611787",
          "exception": false,
          "start_time": "2022-10-07T21:49:19.075113",
          "status": "completed"
        },
        "tags": [],
        "id": "2584afed",
        "outputId": "6b038de6-f554-4c12-f968-0aabe3f33879",
        "colab": {
          "base_uri": "https://localhost:8080/"
        }
      },
      "outputs": [
        {
          "output_type": "stream",
          "name": "stderr",
          "text": [
            "<ipython-input-10-79d6dd5744c6>:7: SettingWithCopyWarning: \n",
            "A value is trying to be set on a copy of a slice from a DataFrame\n",
            "\n",
            "See the caveats in the documentation: https://pandas.pydata.org/pandas-docs/stable/user_guide/indexing.html#returning-a-view-versus-a-copy\n",
            "  df['Resume'][i]=\" \".join(lw)\n"
          ]
        }
      ],
      "source": [
        "df['Resume'] = df['Resume'].apply(lambda x:x.lower())\n",
        "for i in range(len(df)):\n",
        "    lw=[]\n",
        "    for j in df['Resume'][i].split():\n",
        "        if len(j)>=3:                  \n",
        "            lw.append(j)\n",
        "    df['Resume'][i]=\" \".join(lw)"
      ]
    },
    {
      "cell_type": "markdown",
      "id": "856b6339",
      "metadata": {
        "papermill": {
          "duration": 0.087181,
          "end_time": "2022-10-07T21:49:19.784117",
          "exception": false,
          "start_time": "2022-10-07T21:49:19.696936",
          "status": "completed"
        },
        "tags": [],
        "id": "856b6339"
      },
      "source": [
        "# Removing punctuations"
      ]
    },
    {
      "cell_type": "code",
      "execution_count": 11,
      "id": "7e02b1d6",
      "metadata": {
        "execution": {
          "iopub.execute_input": "2022-10-07T21:49:19.963976Z",
          "iopub.status.busy": "2022-10-07T21:49:19.963410Z",
          "iopub.status.idle": "2022-10-07T21:49:19.989378Z",
          "shell.execute_reply": "2022-10-07T21:49:19.988298Z"
        },
        "papermill": {
          "duration": 0.121082,
          "end_time": "2022-10-07T21:49:19.992616",
          "exception": false,
          "start_time": "2022-10-07T21:49:19.871534",
          "status": "completed"
        },
        "tags": [],
        "id": "7e02b1d6",
        "outputId": "1158b149-7e11-4537-bd55-e8fef9ea4953",
        "colab": {
          "base_uri": "https://localhost:8080/"
        }
      },
      "outputs": [
        {
          "output_type": "stream",
          "name": "stderr",
          "text": [
            "<ipython-input-11-34aee2d96334>:5: FutureWarning: The default value of regex will change from True to False in a future version. In addition, single character regular expressions will *not* be treated as literal strings when regex=True.\n",
            "  df['Resume'] = df['Resume'].str.replace(p, '')\n"
          ]
        }
      ],
      "source": [
        "ps = list(\";?.:!,\")\n",
        "df['Resume'] = df['Resume']\n",
        "\n",
        "for p in ps:   \n",
        "    df['Resume'] = df['Resume'].str.replace(p, '')"
      ]
    },
    {
      "cell_type": "markdown",
      "id": "7786e15a",
      "metadata": {
        "papermill": {
          "duration": 0.091363,
          "end_time": "2022-10-07T21:49:20.173838",
          "exception": false,
          "start_time": "2022-10-07T21:49:20.082475",
          "status": "completed"
        },
        "tags": [],
        "id": "7786e15a"
      },
      "source": [
        "# Removing '\\n' and '\\t', extra spaces, quoting text and progressive pronouns"
      ]
    },
    {
      "cell_type": "code",
      "execution_count": 12,
      "id": "00a2c1f5",
      "metadata": {
        "execution": {
          "iopub.execute_input": "2022-10-07T21:49:20.367251Z",
          "iopub.status.busy": "2022-10-07T21:49:20.366428Z",
          "iopub.status.idle": "2022-10-07T21:49:20.386312Z",
          "shell.execute_reply": "2022-10-07T21:49:20.385253Z"
        },
        "papermill": {
          "duration": 0.12135,
          "end_time": "2022-10-07T21:49:20.388488",
          "exception": false,
          "start_time": "2022-10-07T21:49:20.267138",
          "status": "completed"
        },
        "tags": [],
        "id": "00a2c1f5"
      },
      "outputs": [],
      "source": [
        "df['Resume'] = df['Resume'].str.replace(\"    \", \" \")\n",
        "df['Resume'] = df['Resume'].str.replace('\"', '')\n",
        "df['Resume'] = df['Resume'].apply(lambda x: x.replace('\\t', ' '))\n",
        "df['Resume'] = df['Resume'].str.replace(\"'s\", \"\")\n",
        "df['Resume'] = df['Resume'].apply(lambda x: x.replace('\\n', ' '))"
      ]
    },
    {
      "cell_type": "markdown",
      "id": "575d1d65",
      "metadata": {
        "papermill": {
          "duration": 0.090316,
          "end_time": "2022-10-07T21:49:20.568494",
          "exception": false,
          "start_time": "2022-10-07T21:49:20.478178",
          "status": "completed"
        },
        "tags": [],
        "id": "575d1d65"
      },
      "source": [
        "# Applying Lemmatization"
      ]
    },
    {
      "cell_type": "code",
      "execution_count": 13,
      "id": "2741b50d",
      "metadata": {
        "execution": {
          "iopub.execute_input": "2022-10-07T21:49:20.757580Z",
          "iopub.status.busy": "2022-10-07T21:49:20.757217Z",
          "iopub.status.idle": "2022-10-07T21:49:21.366627Z",
          "shell.execute_reply": "2022-10-07T21:49:21.365667Z"
        },
        "papermill": {
          "duration": 0.705189,
          "end_time": "2022-10-07T21:49:21.368787",
          "exception": false,
          "start_time": "2022-10-07T21:49:20.663598",
          "status": "completed"
        },
        "tags": [],
        "id": "2741b50d",
        "outputId": "ff35e837-d2cb-4cbd-9537-48549b04ea47",
        "colab": {
          "base_uri": "https://localhost:8080/"
        }
      },
      "outputs": [
        {
          "output_type": "stream",
          "name": "stderr",
          "text": [
            "[nltk_data] Downloading package punkt to /root/nltk_data...\n",
            "[nltk_data]   Unzipping tokenizers/punkt.zip.\n",
            "[nltk_data] Downloading package wordnet to /root/nltk_data...\n",
            "[nltk_data] Downloading package omw-1.4 to /root/nltk_data...\n"
          ]
        },
        {
          "output_type": "execute_result",
          "data": {
            "text/plain": [
              "True"
            ]
          },
          "metadata": {},
          "execution_count": 13
        }
      ],
      "source": [
        "nltk.download('punkt')\n",
        "nltk.download('wordnet')\n",
        "nltk.download('omw-1.4')"
      ]
    },
    {
      "cell_type": "code",
      "execution_count": 14,
      "id": "de119306",
      "metadata": {
        "execution": {
          "iopub.execute_input": "2022-10-07T21:49:21.546694Z",
          "iopub.status.busy": "2022-10-07T21:49:21.546297Z",
          "iopub.status.idle": "2022-10-07T21:49:25.078784Z",
          "shell.execute_reply": "2022-10-07T21:49:25.077661Z"
        },
        "papermill": {
          "duration": 3.626548,
          "end_time": "2022-10-07T21:49:25.081902",
          "exception": false,
          "start_time": "2022-10-07T21:49:21.455354",
          "status": "completed"
        },
        "tags": [],
        "id": "de119306"
      },
      "outputs": [],
      "source": [
        "wl = WordNetLemmatizer()\n",
        "nr = len(df)\n",
        "lis = []\n",
        "for r in range(0, nr):\n",
        "    ll = []\n",
        "    t = df.loc[r]['Resume']\n",
        "    tw = str(t).split(\" \")\n",
        "    for w in tw:\n",
        "        ll.append(wl.lemmatize(w, pos=\"v\"))\n",
        "    lt = \" \".join(ll)\n",
        "    lis.append(lt)"
      ]
    },
    {
      "cell_type": "code",
      "execution_count": 15,
      "id": "caf624e6",
      "metadata": {
        "execution": {
          "iopub.execute_input": "2022-10-07T21:49:25.306389Z",
          "iopub.status.busy": "2022-10-07T21:49:25.306017Z",
          "iopub.status.idle": "2022-10-07T21:49:25.311475Z",
          "shell.execute_reply": "2022-10-07T21:49:25.310532Z"
        },
        "papermill": {
          "duration": 0.100213,
          "end_time": "2022-10-07T21:49:25.313562",
          "exception": false,
          "start_time": "2022-10-07T21:49:25.213349",
          "status": "completed"
        },
        "tags": [],
        "id": "caf624e6"
      },
      "outputs": [],
      "source": [
        "df['Resume'] = lis"
      ]
    },
    {
      "cell_type": "markdown",
      "id": "dd81ce88",
      "metadata": {
        "papermill": {
          "duration": 0.088575,
          "end_time": "2022-10-07T21:49:25.486524",
          "exception": false,
          "start_time": "2022-10-07T21:49:25.397949",
          "status": "completed"
        },
        "tags": [],
        "id": "dd81ce88"
      },
      "source": [
        "# Removing Stop-words"
      ]
    },
    {
      "cell_type": "code",
      "execution_count": 16,
      "id": "34f6b553",
      "metadata": {
        "execution": {
          "iopub.execute_input": "2022-10-07T21:49:25.662410Z",
          "iopub.status.busy": "2022-10-07T21:49:25.662017Z",
          "iopub.status.idle": "2022-10-07T21:49:25.674151Z",
          "shell.execute_reply": "2022-10-07T21:49:25.672376Z"
        },
        "papermill": {
          "duration": 0.103802,
          "end_time": "2022-10-07T21:49:25.676956",
          "exception": false,
          "start_time": "2022-10-07T21:49:25.573154",
          "status": "completed"
        },
        "tags": [],
        "id": "34f6b553",
        "outputId": "c3770a04-932c-4fae-c173-0cca00762252",
        "colab": {
          "base_uri": "https://localhost:8080/"
        }
      },
      "outputs": [
        {
          "output_type": "stream",
          "name": "stderr",
          "text": [
            "[nltk_data] Downloading package stopwords to /root/nltk_data...\n",
            "[nltk_data]   Unzipping corpora/stopwords.zip.\n"
          ]
        },
        {
          "output_type": "execute_result",
          "data": {
            "text/plain": [
              "True"
            ]
          },
          "metadata": {},
          "execution_count": 16
        }
      ],
      "source": [
        "nltk.download('stopwords')"
      ]
    },
    {
      "cell_type": "code",
      "execution_count": 17,
      "id": "0f675bf3",
      "metadata": {
        "execution": {
          "iopub.execute_input": "2022-10-07T21:49:25.858784Z",
          "iopub.status.busy": "2022-10-07T21:49:25.857902Z",
          "iopub.status.idle": "2022-10-07T21:49:35.357126Z",
          "shell.execute_reply": "2022-10-07T21:49:35.356143Z"
        },
        "papermill": {
          "duration": 9.594062,
          "end_time": "2022-10-07T21:49:35.359451",
          "exception": false,
          "start_time": "2022-10-07T21:49:25.765389",
          "status": "completed"
        },
        "tags": [],
        "id": "0f675bf3",
        "outputId": "1397539a-03fe-4b13-fe0f-c410f4a56b4b",
        "colab": {
          "base_uri": "https://localhost:8080/"
        }
      },
      "outputs": [
        {
          "output_type": "stream",
          "name": "stderr",
          "text": [
            "<ipython-input-17-b2a2537f2ca1>:4: FutureWarning: The default value of regex will change from True to False in a future version.\n",
            "  df['Resume'] = df['Resume'].str.replace(rs, '')\n"
          ]
        }
      ],
      "source": [
        "sw = list(stopwords.words('english'))\n",
        "for s in sw:\n",
        "    rs = r\"\\b\" + s + r\"\\b\"\n",
        "    df['Resume'] = df['Resume'].str.replace(rs, '')"
      ]
    },
    {
      "cell_type": "markdown",
      "id": "f0b2ef91",
      "metadata": {
        "papermill": {
          "duration": 0.167424,
          "end_time": "2022-10-07T21:50:08.409735",
          "exception": false,
          "start_time": "2022-10-07T21:50:08.242311",
          "status": "completed"
        },
        "tags": [],
        "id": "f0b2ef91"
      },
      "source": [
        "# Data Preparation for Training and Testing"
      ]
    },
    {
      "cell_type": "code",
      "execution_count": 18,
      "id": "c0d73e20",
      "metadata": {
        "execution": {
          "iopub.execute_input": "2022-10-07T21:50:09.061375Z",
          "iopub.status.busy": "2022-10-07T21:50:09.060774Z",
          "iopub.status.idle": "2022-10-07T21:50:09.068695Z",
          "shell.execute_reply": "2022-10-07T21:50:09.067633Z"
        },
        "papermill": {
          "duration": 0.173251,
          "end_time": "2022-10-07T21:50:09.070531",
          "exception": false,
          "start_time": "2022-10-07T21:50:08.897280",
          "status": "completed"
        },
        "tags": [],
        "id": "c0d73e20"
      },
      "outputs": [],
      "source": [
        "le = LabelEncoder()\n",
        "df['Category'] = le.fit_transform(df['Category'])\n",
        "#df['Category'] = LabelEncoder().fit_transform(df['Category'])\n",
        "num_classes = len(np.unique(df['Category']))"
      ]
    },
    {
      "cell_type": "code",
      "source": [
        "from keras.preprocessing.text import Tokenizer\n",
        "#from keras.preprocessing.sequence import pad_sequences\n",
        "from keras.layers import Embedding, Conv1D, MaxPooling1D, Flatten, Dense, Input, Dropout\n",
        "from keras.models import Model\n",
        "from keras.utils import to_categorical\n",
        "from keras.initializers import Constant\n",
        "\n",
        "# Splitting the Data using Stratified split\n",
        "X_train, X_test, y_train, y_test = train_test_split(df['Resume'], df['Category'], test_size=0.1, stratify=df['Category'], random_state=42)\n",
        "\n",
        "# Word Embedding using GloVe\n",
        "embedding_dim = 100\n",
        "max_words = 10000\n",
        "\n",
        "tokenizer = Tokenizer(num_words=max_words)\n",
        "tokenizer.fit_on_texts(X_train)\n",
        "\n",
        "word_index = tokenizer.word_index\n",
        "num_words = min(max_words, len(word_index) + 1)\n",
        "\n",
        "glove_file = '/content/glove.6B.100d.txt'\n",
        "embeddings_index = {}\n",
        "with open(glove_file, encoding='utf-8') as f:\n",
        "    for line in f:\n",
        "        word, coefs = line.split(maxsplit=1)\n",
        "        coefs = np.fromstring(coefs, 'f', sep=' ')\n",
        "        embeddings_index[word] = coefs\n",
        "\n",
        "embedding_matrix = np.zeros((num_words, embedding_dim))\n",
        "for word, i in word_index.items():\n",
        "    if i >= max_words:\n",
        "        continue\n",
        "    embedding_vector = embeddings_index.get(word)\n",
        "    if embedding_vector is not None:\n",
        "        embedding_matrix[i] = embedding_vector\n",
        "\n"
      ],
      "metadata": {
        "id": "nm9K99zewxka"
      },
      "id": "nm9K99zewxka",
      "execution_count": 19,
      "outputs": []
    },
    {
      "cell_type": "code",
      "source": [
        "!pip install keras_preprocessing"
      ],
      "metadata": {
        "colab": {
          "base_uri": "https://localhost:8080/"
        },
        "id": "B224akYlPVKX",
        "outputId": "0400a2a5-ff4b-41da-ed86-321f46c69bf8"
      },
      "id": "B224akYlPVKX",
      "execution_count": 20,
      "outputs": [
        {
          "output_type": "stream",
          "name": "stdout",
          "text": [
            "Looking in indexes: https://pypi.org/simple, https://us-python.pkg.dev/colab-wheels/public/simple/\n",
            "Collecting keras_preprocessing\n",
            "  Downloading Keras_Preprocessing-1.1.2-py2.py3-none-any.whl (42 kB)\n",
            "\u001b[2K     \u001b[90m━━━━━━━━━━━━━━━━━━━━━━━━━━━━━━━━━━━━━━━━\u001b[0m \u001b[32m42.6/42.6 kB\u001b[0m \u001b[31m3.5 MB/s\u001b[0m eta \u001b[36m0:00:00\u001b[0m\n",
            "\u001b[?25hRequirement already satisfied: six>=1.9.0 in /usr/local/lib/python3.9/dist-packages (from keras_preprocessing) (1.16.0)\n",
            "Requirement already satisfied: numpy>=1.9.1 in /usr/local/lib/python3.9/dist-packages (from keras_preprocessing) (1.22.4)\n",
            "Installing collected packages: keras_preprocessing\n",
            "Successfully installed keras_preprocessing-1.1.2\n"
          ]
        }
      ]
    },
    {
      "cell_type": "code",
      "source": [
        "# Preparing data for CNN model\n",
        "from keras_preprocessing.sequence import pad_sequences\n",
        "maxlen = 3000\n",
        "X_train_seq = tokenizer.texts_to_sequences(X_train)\n",
        "X_test_seq = tokenizer.texts_to_sequences(X_test)\n",
        "\n",
        "X_train_pad = pad_sequences(X_train_seq, maxlen=maxlen)\n",
        "X_test_pad = pad_sequences(X_test_seq, maxlen=maxlen)\n",
        "\n",
        "y_train_cat = to_categorical(y_train, num_classes = 25)\n",
        "y_test_cat = to_categorical(y_test, num_classes = 25)"
      ],
      "metadata": {
        "id": "FnErW0M2x8hE"
      },
      "id": "FnErW0M2x8hE",
      "execution_count": 31,
      "outputs": []
    },
    {
      "cell_type": "code",
      "source": [
        "# Building the CNN Model\n",
        "from keras.layers import GlobalMaxPooling1D\n",
        "inp = Input(shape=(maxlen,))\n",
        "x = Embedding(num_words, embedding_dim, weights=[embedding_matrix], trainable=False)(inp)\n",
        "x = Conv1D(filters=128, kernel_size=3, activation='relu')(x)\n",
        "x = MaxPooling1D(pool_size=2)(x)\n",
        "x = Conv1D(filters=128, kernel_size=3, activation='relu')(x)\n",
        "x = GlobalMaxPooling1D()(x)\n",
        "x = Dropout(0.5)(x)\n",
        "x = Flatten()(x)\n",
        "x = Dense(128, activation='relu')(x)\n",
        "x = Dropout(0.5)(x)\n",
        "x = Dense(128, activation='relu')(x)\n",
        "x = Dropout(0.5)(x)\n",
        "out = Dense(num_classes, activation='softmax')(x)\n",
        "\n",
        "model = Model(inputs=inp, outputs=out)\n",
        "model.compile(loss='categorical_crossentropy', optimizer='adam', metrics=['accuracy'])\n",
        "\n"
      ],
      "metadata": {
        "id": "5TB3WCwt0Td8"
      },
      "id": "5TB3WCwt0Td8",
      "execution_count": 32,
      "outputs": []
    },
    {
      "cell_type": "code",
      "source": [
        "# Training the Model\n",
        "history = model.fit(X_train_pad, y_train_cat, batch_size=32, epochs=50, validation_data=(X_test_pad, y_test_cat))"
      ],
      "metadata": {
        "colab": {
          "base_uri": "https://localhost:8080/"
        },
        "id": "KKV-0zck0f6L",
        "outputId": "e32b1840-04d8-4cfd-eea0-9d799dae4671"
      },
      "id": "KKV-0zck0f6L",
      "execution_count": 33,
      "outputs": [
        {
          "output_type": "stream",
          "name": "stdout",
          "text": [
            "Epoch 1/50\n",
            "28/28 [==============================] - 3s 32ms/step - loss: 3.4157 - accuracy: 0.0578 - val_loss: 3.1594 - val_accuracy: 0.1546\n",
            "Epoch 2/50\n",
            "28/28 [==============================] - 1s 22ms/step - loss: 3.1602 - accuracy: 0.0879 - val_loss: 3.1215 - val_accuracy: 0.1959\n",
            "Epoch 3/50\n",
            "28/28 [==============================] - 1s 22ms/step - loss: 3.1571 - accuracy: 0.0855 - val_loss: 3.0537 - val_accuracy: 0.1959\n",
            "Epoch 4/50\n",
            "28/28 [==============================] - 1s 21ms/step - loss: 3.0703 - accuracy: 0.1202 - val_loss: 2.9481 - val_accuracy: 0.2268\n",
            "Epoch 5/50\n",
            "28/28 [==============================] - 1s 21ms/step - loss: 2.9538 - accuracy: 0.1376 - val_loss: 2.7612 - val_accuracy: 0.2371\n",
            "Epoch 6/50\n",
            "28/28 [==============================] - 1s 24ms/step - loss: 2.7979 - accuracy: 0.1942 - val_loss: 2.5516 - val_accuracy: 0.2887\n",
            "Epoch 7/50\n",
            "28/28 [==============================] - 1s 25ms/step - loss: 2.6096 - accuracy: 0.2335 - val_loss: 2.3230 - val_accuracy: 0.3814\n",
            "Epoch 8/50\n",
            "28/28 [==============================] - 1s 24ms/step - loss: 2.4213 - accuracy: 0.2948 - val_loss: 2.0798 - val_accuracy: 0.4742\n",
            "Epoch 9/50\n",
            "28/28 [==============================] - 1s 22ms/step - loss: 2.2292 - accuracy: 0.3329 - val_loss: 1.8380 - val_accuracy: 0.4948\n",
            "Epoch 10/50\n",
            "28/28 [==============================] - 1s 22ms/step - loss: 2.0642 - accuracy: 0.3792 - val_loss: 1.6143 - val_accuracy: 0.6082\n",
            "Epoch 11/50\n",
            "28/28 [==============================] - 1s 22ms/step - loss: 1.8518 - accuracy: 0.4543 - val_loss: 1.4145 - val_accuracy: 0.6907\n",
            "Epoch 12/50\n",
            "28/28 [==============================] - 1s 21ms/step - loss: 1.7065 - accuracy: 0.4925 - val_loss: 1.2177 - val_accuracy: 0.7320\n",
            "Epoch 13/50\n",
            "28/28 [==============================] - 1s 21ms/step - loss: 1.5888 - accuracy: 0.5283 - val_loss: 1.0545 - val_accuracy: 0.8351\n",
            "Epoch 14/50\n",
            "28/28 [==============================] - 1s 22ms/step - loss: 1.3975 - accuracy: 0.5873 - val_loss: 0.8250 - val_accuracy: 0.8454\n",
            "Epoch 15/50\n",
            "28/28 [==============================] - 1s 21ms/step - loss: 1.2968 - accuracy: 0.6035 - val_loss: 0.7012 - val_accuracy: 0.9072\n",
            "Epoch 16/50\n",
            "28/28 [==============================] - 1s 22ms/step - loss: 1.1627 - accuracy: 0.6636 - val_loss: 0.5699 - val_accuracy: 0.8969\n",
            "Epoch 17/50\n",
            "28/28 [==============================] - 1s 22ms/step - loss: 0.9704 - accuracy: 0.7237 - val_loss: 0.4378 - val_accuracy: 0.9485\n",
            "Epoch 18/50\n",
            "28/28 [==============================] - 1s 21ms/step - loss: 1.0097 - accuracy: 0.6832 - val_loss: 0.4409 - val_accuracy: 0.9381\n",
            "Epoch 19/50\n",
            "28/28 [==============================] - 1s 22ms/step - loss: 0.8623 - accuracy: 0.7434 - val_loss: 0.3251 - val_accuracy: 0.9691\n",
            "Epoch 20/50\n",
            "28/28 [==============================] - 1s 22ms/step - loss: 0.7289 - accuracy: 0.7780 - val_loss: 0.2595 - val_accuracy: 0.9588\n",
            "Epoch 21/50\n",
            "28/28 [==============================] - 1s 23ms/step - loss: 0.7444 - accuracy: 0.7665 - val_loss: 0.2612 - val_accuracy: 0.9691\n",
            "Epoch 22/50\n",
            "28/28 [==============================] - 1s 21ms/step - loss: 0.6788 - accuracy: 0.8035 - val_loss: 0.2416 - val_accuracy: 0.9588\n",
            "Epoch 23/50\n",
            "28/28 [==============================] - 1s 22ms/step - loss: 0.6646 - accuracy: 0.7942 - val_loss: 0.1881 - val_accuracy: 0.9691\n",
            "Epoch 24/50\n",
            "28/28 [==============================] - 1s 21ms/step - loss: 0.6165 - accuracy: 0.8035 - val_loss: 0.1559 - val_accuracy: 0.9691\n",
            "Epoch 25/50\n",
            "28/28 [==============================] - 1s 22ms/step - loss: 0.5345 - accuracy: 0.8393 - val_loss: 0.1377 - val_accuracy: 0.9691\n",
            "Epoch 26/50\n",
            "28/28 [==============================] - 1s 24ms/step - loss: 0.5103 - accuracy: 0.8358 - val_loss: 0.1233 - val_accuracy: 0.9691\n",
            "Epoch 27/50\n",
            "28/28 [==============================] - 1s 24ms/step - loss: 0.4454 - accuracy: 0.8601 - val_loss: 0.1206 - val_accuracy: 0.9794\n",
            "Epoch 28/50\n",
            "28/28 [==============================] - 1s 24ms/step - loss: 0.4388 - accuracy: 0.8532 - val_loss: 0.0993 - val_accuracy: 0.9691\n",
            "Epoch 29/50\n",
            "28/28 [==============================] - 1s 23ms/step - loss: 0.5116 - accuracy: 0.8416 - val_loss: 0.1160 - val_accuracy: 0.9794\n",
            "Epoch 30/50\n",
            "28/28 [==============================] - 1s 23ms/step - loss: 0.4828 - accuracy: 0.8486 - val_loss: 0.0940 - val_accuracy: 0.9897\n",
            "Epoch 31/50\n",
            "28/28 [==============================] - 1s 21ms/step - loss: 0.4504 - accuracy: 0.8601 - val_loss: 0.0913 - val_accuracy: 0.9794\n",
            "Epoch 32/50\n",
            "28/28 [==============================] - 1s 23ms/step - loss: 0.4041 - accuracy: 0.8671 - val_loss: 0.0915 - val_accuracy: 0.9897\n",
            "Epoch 33/50\n",
            "28/28 [==============================] - 1s 21ms/step - loss: 0.5418 - accuracy: 0.8254 - val_loss: 0.0868 - val_accuracy: 0.9794\n",
            "Epoch 34/50\n",
            "28/28 [==============================] - 1s 23ms/step - loss: 0.5058 - accuracy: 0.8382 - val_loss: 0.1013 - val_accuracy: 0.9691\n",
            "Epoch 35/50\n",
            "28/28 [==============================] - 1s 22ms/step - loss: 0.4097 - accuracy: 0.8717 - val_loss: 0.0926 - val_accuracy: 0.9897\n",
            "Epoch 36/50\n",
            "28/28 [==============================] - 1s 22ms/step - loss: 0.4125 - accuracy: 0.8590 - val_loss: 0.0786 - val_accuracy: 0.9794\n",
            "Epoch 37/50\n",
            "28/28 [==============================] - 1s 22ms/step - loss: 0.3883 - accuracy: 0.8717 - val_loss: 0.0740 - val_accuracy: 0.9794\n",
            "Epoch 38/50\n",
            "28/28 [==============================] - 1s 21ms/step - loss: 0.3328 - accuracy: 0.8994 - val_loss: 0.0757 - val_accuracy: 0.9897\n",
            "Epoch 39/50\n",
            "28/28 [==============================] - 1s 23ms/step - loss: 0.2882 - accuracy: 0.9179 - val_loss: 0.0717 - val_accuracy: 0.9897\n",
            "Epoch 40/50\n",
            "28/28 [==============================] - 1s 21ms/step - loss: 0.3000 - accuracy: 0.9133 - val_loss: 0.0677 - val_accuracy: 0.9897\n",
            "Epoch 41/50\n",
            "28/28 [==============================] - 1s 22ms/step - loss: 0.2130 - accuracy: 0.9341 - val_loss: 0.0561 - val_accuracy: 0.9897\n",
            "Epoch 42/50\n",
            "28/28 [==============================] - 1s 21ms/step - loss: 0.3070 - accuracy: 0.9110 - val_loss: 0.0659 - val_accuracy: 0.9794\n",
            "Epoch 43/50\n",
            "28/28 [==============================] - 1s 21ms/step - loss: 0.2252 - accuracy: 0.9341 - val_loss: 0.0650 - val_accuracy: 0.9897\n",
            "Epoch 44/50\n",
            "28/28 [==============================] - 1s 21ms/step - loss: 0.2742 - accuracy: 0.9237 - val_loss: 0.0632 - val_accuracy: 0.9897\n",
            "Epoch 45/50\n",
            "28/28 [==============================] - 1s 23ms/step - loss: 0.2488 - accuracy: 0.9133 - val_loss: 0.0617 - val_accuracy: 0.9897\n",
            "Epoch 46/50\n",
            "28/28 [==============================] - 1s 24ms/step - loss: 0.2216 - accuracy: 0.9364 - val_loss: 0.0571 - val_accuracy: 0.9897\n",
            "Epoch 47/50\n",
            "28/28 [==============================] - 1s 25ms/step - loss: 0.2354 - accuracy: 0.9283 - val_loss: 0.0597 - val_accuracy: 0.9897\n",
            "Epoch 48/50\n",
            "28/28 [==============================] - 1s 23ms/step - loss: 0.2087 - accuracy: 0.9434 - val_loss: 0.0589 - val_accuracy: 0.9897\n",
            "Epoch 49/50\n",
            "28/28 [==============================] - 1s 23ms/step - loss: 0.2239 - accuracy: 0.9295 - val_loss: 0.0553 - val_accuracy: 0.9897\n",
            "Epoch 50/50\n",
            "28/28 [==============================] - 1s 22ms/step - loss: 0.2393 - accuracy: 0.9283 - val_loss: 0.0480 - val_accuracy: 0.9897\n"
          ]
        }
      ]
    },
    {
      "cell_type": "code",
      "source": [
        "# Evaluating the Model\n",
        "score, acc = model.evaluate(X_test_pad, y_test_cat, batch_size=32)\n",
        "print('Test accuracy:', acc)"
      ],
      "metadata": {
        "colab": {
          "base_uri": "https://localhost:8080/"
        },
        "id": "HoRHDTgk0lrv",
        "outputId": "292ce197-311f-47a6-c90d-6072a8a305b7"
      },
      "id": "HoRHDTgk0lrv",
      "execution_count": 34,
      "outputs": [
        {
          "output_type": "stream",
          "name": "stdout",
          "text": [
            "4/4 [==============================] - 0s 13ms/step - loss: 0.0480 - accuracy: 0.9897\n",
            "Test accuracy: 0.9896907210350037\n"
          ]
        }
      ]
    },
    {
      "cell_type": "code",
      "source": [
        "#Making predicitons for X_test (test data) \n",
        "Y_pred = model.predict(X_test_pad)\n",
        "Y_pred_cat =np.argmax(Y_pred,axis=1)\n",
        "Y_pred_cat"
      ],
      "metadata": {
        "colab": {
          "base_uri": "https://localhost:8080/"
        },
        "id": "PQmg8yCVFzTL",
        "outputId": "b81a2992-21cf-47b0-d081-845d985ced40"
      },
      "id": "PQmg8yCVFzTL",
      "execution_count": 35,
      "outputs": [
        {
          "output_type": "stream",
          "name": "stdout",
          "text": [
            "4/4 [==============================] - 0s 12ms/step\n"
          ]
        },
        {
          "output_type": "execute_result",
          "data": {
            "text/plain": [
              "array([ 8, 23, 15, 18,  3,  0, 17,  1, 17, 12, 19, 11,  4, 18, 13, 13, 12,\n",
              "       15,  7, 23, 22, 10, 20,  0, 11, 13, 24, 15,  5, 16, 14,  9, 10, 13,\n",
              "       22,  6,  7,  8,  6,  8, 23, 22,  9,  4, 16, 10,  3,  7, 20, 23, 23,\n",
              "       10, 20, 18, 15, 21,  5, 12, 14, 24, 16, 15, 17,  8, 23, 18, 15,  6,\n",
              "       12,  7,  3, 24,  3,  4, 15, 24,  1,  8,  6, 15, 24,  1, 21, 20,  2,\n",
              "       23, 22, 16, 14, 19,  2, 20, 11,  9, 19,  1,  2])"
            ]
          },
          "metadata": {},
          "execution_count": 35
        }
      ]
    },
    {
      "cell_type": "code",
      "source": [
        "#We apply inverse transform to see the predicted categories\n",
        "predicted_labels = le.inverse_transform(Y_pred_cat)\n",
        "print(predicted_labels)"
      ],
      "metadata": {
        "colab": {
          "base_uri": "https://localhost:8080/"
        },
        "id": "15WsQLuQLYcN",
        "outputId": "c226248b-a6e0-4034-d5ad-96bd75bc59a9"
      },
      "id": "15WsQLuQLYcN",
      "execution_count": 36,
      "outputs": [
        {
          "output_type": "stream",
          "name": "stdout",
          "text": [
            "['DevOps Engineer' 'Testing' 'Java Developer' 'Operations Manager'\n",
            " 'Blockchain' 'Advocate' 'Network Security Engineer' 'Arts'\n",
            " 'Network Security Engineer' 'HR' 'PMO' 'Electrical Engineering'\n",
            " 'Business Analyst' 'Operations Manager' 'Hadoop' 'Hadoop' 'HR'\n",
            " 'Java Developer' 'Database' 'Testing' 'Sales' 'ETL Developer'\n",
            " 'Python Developer' 'Advocate' 'Electrical Engineering' 'Hadoop'\n",
            " 'Web Designing' 'Java Developer' 'Civil Engineer' 'Mechanical Engineer'\n",
            " 'Health and fitness' 'DotNet Developer' 'ETL Developer' 'Hadoop' 'Sales'\n",
            " 'Data Science' 'Database' 'DevOps Engineer' 'Data Science'\n",
            " 'DevOps Engineer' 'Testing' 'Sales' 'DotNet Developer' 'Business Analyst'\n",
            " 'Mechanical Engineer' 'ETL Developer' 'Blockchain' 'Database'\n",
            " 'Python Developer' 'Testing' 'Testing' 'ETL Developer' 'Python Developer'\n",
            " 'Operations Manager' 'Java Developer' 'SAP Developer' 'Civil Engineer'\n",
            " 'HR' 'Health and fitness' 'Web Designing' 'Mechanical Engineer'\n",
            " 'Java Developer' 'Network Security Engineer' 'DevOps Engineer' 'Testing'\n",
            " 'Operations Manager' 'Java Developer' 'Data Science' 'HR' 'Database'\n",
            " 'Blockchain' 'Web Designing' 'Blockchain' 'Business Analyst'\n",
            " 'Java Developer' 'Web Designing' 'Arts' 'DevOps Engineer' 'Data Science'\n",
            " 'Java Developer' 'Web Designing' 'Arts' 'SAP Developer'\n",
            " 'Python Developer' 'Automation Testing' 'Testing' 'Sales'\n",
            " 'Mechanical Engineer' 'Health and fitness' 'PMO' 'Automation Testing'\n",
            " 'Python Developer' 'Electrical Engineering' 'DotNet Developer' 'PMO'\n",
            " 'Arts' 'Automation Testing']\n"
          ]
        }
      ]
    },
    {
      "cell_type": "code",
      "source": [
        "#Ground Truth Labels of test data (y_test)\n",
        "ground_truth_labels_test=np.argmax(y_test_cat,axis=1)\n",
        "ground_truth_labels_test"
      ],
      "metadata": {
        "colab": {
          "base_uri": "https://localhost:8080/"
        },
        "id": "ypcfMIl2GP_w",
        "outputId": "a9deb217-b705-4c85-c260-485fafcf02fc"
      },
      "id": "ypcfMIl2GP_w",
      "execution_count": 37,
      "outputs": [
        {
          "output_type": "execute_result",
          "data": {
            "text/plain": [
              "array([ 8, 23, 15, 18,  3,  0, 17,  1, 17, 12, 19, 11,  4, 18, 13, 13, 12,\n",
              "       15,  7, 23, 22, 10, 20,  0, 11, 13, 24, 15,  5, 16, 14,  9, 10, 13,\n",
              "       22,  6,  7,  8,  6,  8, 23, 22,  9,  4, 16, 10,  3,  8, 20, 23, 23,\n",
              "       10, 20, 18, 15, 21,  5, 12, 14, 24, 16, 15, 17,  8, 23, 18, 15,  6,\n",
              "       12,  7,  3, 24,  3,  4, 15, 24,  1,  8,  6, 15, 24,  1, 21, 20,  2,\n",
              "       23, 22, 16, 14, 19,  2, 20, 11,  9, 19,  1,  2])"
            ]
          },
          "metadata": {},
          "execution_count": 37
        }
      ]
    },
    {
      "cell_type": "code",
      "source": [
        "#We apply inverse transform to the Ground Truth Labels\n",
        "correct_labels = le.inverse_transform(ground_truth_labels_test)\n",
        "print(correct_labels)"
      ],
      "metadata": {
        "colab": {
          "base_uri": "https://localhost:8080/"
        },
        "id": "HkPgg9WZLhYE",
        "outputId": "905f2c2a-020f-4a25-a11e-dd2883bcd12c"
      },
      "id": "HkPgg9WZLhYE",
      "execution_count": 38,
      "outputs": [
        {
          "output_type": "stream",
          "name": "stdout",
          "text": [
            "['DevOps Engineer' 'Testing' 'Java Developer' 'Operations Manager'\n",
            " 'Blockchain' 'Advocate' 'Network Security Engineer' 'Arts'\n",
            " 'Network Security Engineer' 'HR' 'PMO' 'Electrical Engineering'\n",
            " 'Business Analyst' 'Operations Manager' 'Hadoop' 'Hadoop' 'HR'\n",
            " 'Java Developer' 'Database' 'Testing' 'Sales' 'ETL Developer'\n",
            " 'Python Developer' 'Advocate' 'Electrical Engineering' 'Hadoop'\n",
            " 'Web Designing' 'Java Developer' 'Civil Engineer' 'Mechanical Engineer'\n",
            " 'Health and fitness' 'DotNet Developer' 'ETL Developer' 'Hadoop' 'Sales'\n",
            " 'Data Science' 'Database' 'DevOps Engineer' 'Data Science'\n",
            " 'DevOps Engineer' 'Testing' 'Sales' 'DotNet Developer' 'Business Analyst'\n",
            " 'Mechanical Engineer' 'ETL Developer' 'Blockchain' 'DevOps Engineer'\n",
            " 'Python Developer' 'Testing' 'Testing' 'ETL Developer' 'Python Developer'\n",
            " 'Operations Manager' 'Java Developer' 'SAP Developer' 'Civil Engineer'\n",
            " 'HR' 'Health and fitness' 'Web Designing' 'Mechanical Engineer'\n",
            " 'Java Developer' 'Network Security Engineer' 'DevOps Engineer' 'Testing'\n",
            " 'Operations Manager' 'Java Developer' 'Data Science' 'HR' 'Database'\n",
            " 'Blockchain' 'Web Designing' 'Blockchain' 'Business Analyst'\n",
            " 'Java Developer' 'Web Designing' 'Arts' 'DevOps Engineer' 'Data Science'\n",
            " 'Java Developer' 'Web Designing' 'Arts' 'SAP Developer'\n",
            " 'Python Developer' 'Automation Testing' 'Testing' 'Sales'\n",
            " 'Mechanical Engineer' 'Health and fitness' 'PMO' 'Automation Testing'\n",
            " 'Python Developer' 'Electrical Engineering' 'DotNet Developer' 'PMO'\n",
            " 'Arts' 'Automation Testing']\n"
          ]
        }
      ]
    },
    {
      "cell_type": "code",
      "source": [
        "print('Accuracy:', accuracy_score(predicted_labels,correct_labels))\n",
        "print('Precision:', precision_score(predicted_labels,correct_labels, average='weighted'))\n",
        "print('Recall:', recall_score(predicted_labels,correct_labels, average='weighted'))\n",
        "print('F1 score:', f1_score(predicted_labels,correct_labels, average='micro'))"
      ],
      "metadata": {
        "colab": {
          "base_uri": "https://localhost:8080/"
        },
        "id": "6sJ92PYxT_Uc",
        "outputId": "d393704b-54b1-4241-95c0-5f67e6366100"
      },
      "id": "6sJ92PYxT_Uc",
      "execution_count": 39,
      "outputs": [
        {
          "output_type": "stream",
          "name": "stdout",
          "text": [
            "Accuracy: 0.9896907216494846\n",
            "Precision: 0.9914089347079038\n",
            "Recall: 0.9896907216494846\n",
            "F1 score: 0.9896907216494846\n"
          ]
        }
      ]
    }
  ],
  "metadata": {
    "kernelspec": {
      "display_name": "Python 3",
      "language": "python",
      "name": "python3"
    },
    "language_info": {
      "codemirror_mode": {
        "name": "ipython",
        "version": 3
      },
      "file_extension": ".py",
      "mimetype": "text/x-python",
      "name": "python",
      "nbconvert_exporter": "python",
      "pygments_lexer": "ipython3",
      "version": "3.7.12"
    },
    "papermill": {
      "default_parameters": {},
      "duration": 200.577061,
      "end_time": "2022-10-07T21:51:49.455056",
      "environment_variables": {},
      "exception": null,
      "input_path": "__notebook__.ipynb",
      "output_path": "__notebook__.ipynb",
      "parameters": {},
      "start_time": "2022-10-07T21:48:28.877995",
      "version": "2.3.4"
    },
    "colab": {
      "provenance": []
    },
    "accelerator": "GPU",
    "gpuClass": "standard"
  },
  "nbformat": 4,
  "nbformat_minor": 5
}